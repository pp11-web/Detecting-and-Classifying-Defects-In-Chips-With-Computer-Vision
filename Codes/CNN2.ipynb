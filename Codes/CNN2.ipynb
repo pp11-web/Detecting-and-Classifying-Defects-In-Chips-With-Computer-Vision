{
 "cells": [
  {
   "cell_type": "code",
   "execution_count": 4,
   "id": "c0797bb9",
   "metadata": {
    "_cell_guid": "b1076dfc-b9ad-4769-8c92-a6c4dae69d19",
    "_uuid": "8f2839f25d086af736a60e9eeb907d3b93b6e0e5",
    "papermill": {
     "duration": 5.878905,
     "end_time": "2021-11-07T08:26:22.893811",
     "exception": false,
     "start_time": "2021-11-07T08:26:17.014906",
     "status": "completed"
    },
    "tags": []
   },
   "outputs": [],
   "source": [
    "# Load in our libraries\n",
    "import pandas as pd\n",
    "import numpy as np\n",
    "import sklearn\n",
    "import xgboost as xgb\n",
    "import seaborn as sns\n",
    "import matplotlib.pyplot as plt\n",
    "from sklearn.model_selection import KFold\n",
    "from sklearn.metrics import confusion_matrix\n",
    "plt.style.use('ggplot')\n",
    "sns.set(font_scale=1.5) \n",
    "\n",
    "%matplotlib inline\n",
    "import torch\n",
    "import torchvision\n",
    "import torchvision.transforms as transforms\n",
    "from PIL import Image"
   ]
  },
  {
   "cell_type": "code",
   "execution_count": 5,
   "id": "fbeab64b",
   "metadata": {
    "papermill": {
     "duration": 119.064663,
     "end_time": "2021-11-07T08:28:22.019941",
     "exception": false,
     "start_time": "2021-11-07T08:26:22.955278",
     "status": "completed"
    },
    "tags": []
   },
   "outputs": [],
   "source": [
    "df = pd.read_pickle(\"Dataset2/LSWMD.pkl\")"
   ]
  },
  {
   "cell_type": "code",
   "execution_count": 6,
   "id": "25915c1a",
   "metadata": {
    "papermill": {
     "duration": 0.409106,
     "end_time": "2021-11-07T08:28:22.490520",
     "exception": false,
     "start_time": "2021-11-07T08:28:22.081414",
     "status": "completed"
    },
    "tags": []
   },
   "outputs": [
    {
     "name": "stdout",
     "output_type": "stream",
     "text": [
      "<class 'pandas.core.frame.DataFrame'>\n",
      "RangeIndex: 811457 entries, 0 to 811456\n",
      "Data columns (total 6 columns):\n",
      " #   Column          Non-Null Count   Dtype  \n",
      "---  ------          --------------   -----  \n",
      " 0   waferMap        811457 non-null  object \n",
      " 1   dieSize         811457 non-null  float64\n",
      " 2   lotName         811457 non-null  object \n",
      " 3   waferIndex      811457 non-null  float64\n",
      " 4   trianTestLabel  811457 non-null  object \n",
      " 5   failureType     811457 non-null  object \n",
      "dtypes: float64(2), object(4)\n",
      "memory usage: 37.1+ MB\n"
     ]
    }
   ],
   "source": [
    "df.info() #dataset check."
   ]
  },
  {
   "cell_type": "code",
   "execution_count": 7,
   "id": "07c93cec",
   "metadata": {
    "papermill": {
     "duration": 0.347136,
     "end_time": "2021-11-07T08:28:22.900996",
     "exception": false,
     "start_time": "2021-11-07T08:28:22.553860",
     "status": "completed"
    },
    "tags": []
   },
   "outputs": [
    {
     "data": {
      "text/html": [
       "<div>\n",
       "<style scoped>\n",
       "    .dataframe tbody tr th:only-of-type {\n",
       "        vertical-align: middle;\n",
       "    }\n",
       "\n",
       "    .dataframe tbody tr th {\n",
       "        vertical-align: top;\n",
       "    }\n",
       "\n",
       "    .dataframe thead th {\n",
       "        text-align: right;\n",
       "    }\n",
       "</style>\n",
       "<table border=\"1\" class=\"dataframe\">\n",
       "  <thead>\n",
       "    <tr style=\"text-align: right;\">\n",
       "      <th></th>\n",
       "      <th>waferMap</th>\n",
       "      <th>dieSize</th>\n",
       "      <th>lotName</th>\n",
       "      <th>waferIndex</th>\n",
       "      <th>trianTestLabel</th>\n",
       "      <th>failureType</th>\n",
       "    </tr>\n",
       "  </thead>\n",
       "  <tbody>\n",
       "    <tr>\n",
       "      <th>0</th>\n",
       "      <td>[[0, 0, 0, 0, 0, 0, 0, 0, 0, 0, 0, 0, 0, 0, 0,...</td>\n",
       "      <td>1683.0</td>\n",
       "      <td>lot1</td>\n",
       "      <td>1.0</td>\n",
       "      <td>[[Training]]</td>\n",
       "      <td>[[none]]</td>\n",
       "    </tr>\n",
       "    <tr>\n",
       "      <th>1</th>\n",
       "      <td>[[0, 0, 0, 0, 0, 0, 0, 0, 0, 0, 0, 0, 0, 0, 0,...</td>\n",
       "      <td>1683.0</td>\n",
       "      <td>lot1</td>\n",
       "      <td>2.0</td>\n",
       "      <td>[[Training]]</td>\n",
       "      <td>[[none]]</td>\n",
       "    </tr>\n",
       "    <tr>\n",
       "      <th>2</th>\n",
       "      <td>[[0, 0, 0, 0, 0, 0, 0, 0, 0, 0, 0, 0, 0, 0, 0,...</td>\n",
       "      <td>1683.0</td>\n",
       "      <td>lot1</td>\n",
       "      <td>3.0</td>\n",
       "      <td>[[Training]]</td>\n",
       "      <td>[[none]]</td>\n",
       "    </tr>\n",
       "    <tr>\n",
       "      <th>3</th>\n",
       "      <td>[[0, 0, 0, 0, 0, 0, 0, 0, 0, 0, 0, 0, 0, 0, 0,...</td>\n",
       "      <td>1683.0</td>\n",
       "      <td>lot1</td>\n",
       "      <td>4.0</td>\n",
       "      <td>[[Training]]</td>\n",
       "      <td>[[none]]</td>\n",
       "    </tr>\n",
       "    <tr>\n",
       "      <th>4</th>\n",
       "      <td>[[0, 0, 0, 0, 0, 0, 0, 0, 0, 0, 0, 0, 0, 0, 0,...</td>\n",
       "      <td>1683.0</td>\n",
       "      <td>lot1</td>\n",
       "      <td>5.0</td>\n",
       "      <td>[[Training]]</td>\n",
       "      <td>[[none]]</td>\n",
       "    </tr>\n",
       "  </tbody>\n",
       "</table>\n",
       "</div>"
      ],
      "text/plain": [
       "                                            waferMap  dieSize lotName  \\\n",
       "0  [[0, 0, 0, 0, 0, 0, 0, 0, 0, 0, 0, 0, 0, 0, 0,...   1683.0    lot1   \n",
       "1  [[0, 0, 0, 0, 0, 0, 0, 0, 0, 0, 0, 0, 0, 0, 0,...   1683.0    lot1   \n",
       "2  [[0, 0, 0, 0, 0, 0, 0, 0, 0, 0, 0, 0, 0, 0, 0,...   1683.0    lot1   \n",
       "3  [[0, 0, 0, 0, 0, 0, 0, 0, 0, 0, 0, 0, 0, 0, 0,...   1683.0    lot1   \n",
       "4  [[0, 0, 0, 0, 0, 0, 0, 0, 0, 0, 0, 0, 0, 0, 0,...   1683.0    lot1   \n",
       "\n",
       "   waferIndex trianTestLabel failureType  \n",
       "0         1.0   [[Training]]    [[none]]  \n",
       "1         2.0   [[Training]]    [[none]]  \n",
       "2         3.0   [[Training]]    [[none]]  \n",
       "3         4.0   [[Training]]    [[none]]  \n",
       "4         5.0   [[Training]]    [[none]]  "
      ]
     },
     "execution_count": 7,
     "metadata": {},
     "output_type": "execute_result"
    }
   ],
   "source": [
    "df.head()"
   ]
  },
  {
   "cell_type": "code",
   "execution_count": 8,
   "id": "e54ef43b",
   "metadata": {
    "papermill": {
     "duration": 0.198285,
     "end_time": "2021-11-07T08:28:23.159401",
     "exception": false,
     "start_time": "2021-11-07T08:28:22.961116",
     "status": "completed"
    },
    "tags": []
   },
   "outputs": [
    {
     "data": {
      "text/html": [
       "<div>\n",
       "<style scoped>\n",
       "    .dataframe tbody tr th:only-of-type {\n",
       "        vertical-align: middle;\n",
       "    }\n",
       "\n",
       "    .dataframe tbody tr th {\n",
       "        vertical-align: top;\n",
       "    }\n",
       "\n",
       "    .dataframe thead th {\n",
       "        text-align: right;\n",
       "    }\n",
       "</style>\n",
       "<table border=\"1\" class=\"dataframe\">\n",
       "  <thead>\n",
       "    <tr style=\"text-align: right;\">\n",
       "      <th></th>\n",
       "      <th>waferMap</th>\n",
       "      <th>dieSize</th>\n",
       "      <th>lotName</th>\n",
       "      <th>waferIndex</th>\n",
       "      <th>trianTestLabel</th>\n",
       "      <th>failureType</th>\n",
       "    </tr>\n",
       "  </thead>\n",
       "  <tbody>\n",
       "    <tr>\n",
       "      <th>811452</th>\n",
       "      <td>[[0, 0, 0, 0, 0, 0, 0, 0, 0, 0, 0, 1, 2, 1, 1,...</td>\n",
       "      <td>600.0</td>\n",
       "      <td>lot47542</td>\n",
       "      <td>23.0</td>\n",
       "      <td>[[Test]]</td>\n",
       "      <td>[[Edge-Ring]]</td>\n",
       "    </tr>\n",
       "    <tr>\n",
       "      <th>811453</th>\n",
       "      <td>[[0, 0, 0, 0, 0, 0, 0, 0, 0, 0, 0, 2, 2, 1, 1,...</td>\n",
       "      <td>600.0</td>\n",
       "      <td>lot47542</td>\n",
       "      <td>24.0</td>\n",
       "      <td>[[Test]]</td>\n",
       "      <td>[[Edge-Loc]]</td>\n",
       "    </tr>\n",
       "    <tr>\n",
       "      <th>811454</th>\n",
       "      <td>[[0, 0, 0, 0, 0, 0, 0, 0, 0, 0, 0, 1, 2, 1, 1,...</td>\n",
       "      <td>600.0</td>\n",
       "      <td>lot47542</td>\n",
       "      <td>25.0</td>\n",
       "      <td>[[Test]]</td>\n",
       "      <td>[[Edge-Ring]]</td>\n",
       "    </tr>\n",
       "    <tr>\n",
       "      <th>811455</th>\n",
       "      <td>[[0, 0, 0, 0, 0, 0, 0, 0, 0, 0, 0, 1, 1, 1, 1,...</td>\n",
       "      <td>600.0</td>\n",
       "      <td>lot47543</td>\n",
       "      <td>1.0</td>\n",
       "      <td>[]</td>\n",
       "      <td>[]</td>\n",
       "    </tr>\n",
       "    <tr>\n",
       "      <th>811456</th>\n",
       "      <td>[[0, 0, 0, 0, 0, 0, 0, 0, 0, 0, 0, 1, 2, 1, 1,...</td>\n",
       "      <td>600.0</td>\n",
       "      <td>lot47543</td>\n",
       "      <td>2.0</td>\n",
       "      <td>[]</td>\n",
       "      <td>[]</td>\n",
       "    </tr>\n",
       "  </tbody>\n",
       "</table>\n",
       "</div>"
      ],
      "text/plain": [
       "                                                 waferMap  dieSize   lotName  \\\n",
       "811452  [[0, 0, 0, 0, 0, 0, 0, 0, 0, 0, 0, 1, 2, 1, 1,...    600.0  lot47542   \n",
       "811453  [[0, 0, 0, 0, 0, 0, 0, 0, 0, 0, 0, 2, 2, 1, 1,...    600.0  lot47542   \n",
       "811454  [[0, 0, 0, 0, 0, 0, 0, 0, 0, 0, 0, 1, 2, 1, 1,...    600.0  lot47542   \n",
       "811455  [[0, 0, 0, 0, 0, 0, 0, 0, 0, 0, 0, 1, 1, 1, 1,...    600.0  lot47543   \n",
       "811456  [[0, 0, 0, 0, 0, 0, 0, 0, 0, 0, 0, 1, 2, 1, 1,...    600.0  lot47543   \n",
       "\n",
       "        waferIndex trianTestLabel    failureType  \n",
       "811452        23.0       [[Test]]  [[Edge-Ring]]  \n",
       "811453        24.0       [[Test]]   [[Edge-Loc]]  \n",
       "811454        25.0       [[Test]]  [[Edge-Ring]]  \n",
       "811455         1.0             []             []  \n",
       "811456         2.0             []             []  "
      ]
     },
     "execution_count": 8,
     "metadata": {},
     "output_type": "execute_result"
    }
   ],
   "source": [
    "df.tail()"
   ]
  },
  {
   "cell_type": "markdown",
   "id": "f5eb053c",
   "metadata": {
    "papermill": {
     "duration": 0.063374,
     "end_time": "2021-11-07T08:28:23.286236",
     "exception": false,
     "start_time": "2021-11-07T08:28:23.222862",
     "status": "completed"
    },
    "tags": []
   },
   "source": [
    "dataset has 47543 lot. Theoretically, there must be 25*47543 waferMap. but last Index is 811456.\n",
    "Let's check this problem."
   ]
  },
  {
   "cell_type": "code",
   "execution_count": 9,
   "id": "04fb3774",
   "metadata": {
    "papermill": {
     "duration": 0.469709,
     "end_time": "2021-11-07T08:28:23.818892",
     "exception": false,
     "start_time": "2021-11-07T08:28:23.349183",
     "status": "completed"
    },
    "tags": []
   },
   "outputs": [
    {
     "data": {
      "image/png": "[encoded data removed]",
      "text/plain": [
       "<Figure size 640x480 with 1 Axes>"
      ]
     },
     "metadata": {},
     "output_type": "display_data"
    }
   ],
   "source": [
    "lot_index = np.unique(df.waferIndex, return_counts=True)\n",
    "plt.bar(lot_index[0], lot_index[1], color='gold', align = 'center', alpha = 0.5)\n",
    "plt.title(\"wafer Index dist\")\n",
    "plt.xlabel(\"index num\")\n",
    "plt.ylabel(\"frequency\")\n",
    "plt.ylim(30000, 35000)\n",
    "plt.show()"
   ]
  },
  {
   "cell_type": "markdown",
   "id": "870ca34a",
   "metadata": {
    "papermill": {
     "duration": 0.065806,
     "end_time": "2021-11-07T08:28:23.952937",
     "exception": false,
     "start_time": "2021-11-07T08:28:23.887131",
     "status": "completed"
    },
    "tags": []
   },
   "source": [
    "each index frequency is not equal, but we're not use this column.\n",
    "so drop waferIndex column."
   ]
  },
  {
   "cell_type": "code",
   "execution_count": 10,
   "id": "ddeb43bb",
   "metadata": {
    "papermill": {
     "duration": 0.135178,
     "end_time": "2021-11-07T08:28:24.154259",
     "exception": false,
     "start_time": "2021-11-07T08:28:24.019081",
     "status": "completed"
    },
    "tags": []
   },
   "outputs": [],
   "source": [
    "df = df.drop(['waferIndex'], axis = 1)"
   ]
  },
  {
   "cell_type": "code",
   "execution_count": 11,
   "id": "35a91eb4",
   "metadata": {
    "papermill": {
     "duration": 3.312786,
     "end_time": "2021-11-07T08:28:27.533433",
     "exception": false,
     "start_time": "2021-11-07T08:28:24.220647",
     "status": "completed"
    },
    "tags": []
   },
   "outputs": [
    {
     "data": {
      "text/html": [
       "<div>\n",
       "<style scoped>\n",
       "    .dataframe tbody tr th:only-of-type {\n",
       "        vertical-align: middle;\n",
       "    }\n",
       "\n",
       "    .dataframe tbody tr th {\n",
       "        vertical-align: top;\n",
       "    }\n",
       "\n",
       "    .dataframe thead th {\n",
       "        text-align: right;\n",
       "    }\n",
       "</style>\n",
       "<table border=\"1\" class=\"dataframe\">\n",
       "  <thead>\n",
       "    <tr style=\"text-align: right;\">\n",
       "      <th></th>\n",
       "      <th>waferMap</th>\n",
       "      <th>dieSize</th>\n",
       "      <th>lotName</th>\n",
       "      <th>trianTestLabel</th>\n",
       "      <th>failureType</th>\n",
       "      <th>waferMapDim</th>\n",
       "    </tr>\n",
       "  </thead>\n",
       "  <tbody>\n",
       "    <tr>\n",
       "      <th>184122</th>\n",
       "      <td>[[0, 0, 0, 0, 0, 0, 0, 0, 0, 0, 0, 0, 0, 0, 0,...</td>\n",
       "      <td>1380.0</td>\n",
       "      <td>lot11713</td>\n",
       "      <td>[]</td>\n",
       "      <td>[]</td>\n",
       "      <td>(44, 40)</td>\n",
       "    </tr>\n",
       "    <tr>\n",
       "      <th>692490</th>\n",
       "      <td>[[0, 0, 0, 0, 0, 0, 0, 0, 0, 0, 0, 0, 0, 0, 0,...</td>\n",
       "      <td>1129.0</td>\n",
       "      <td>lot42720</td>\n",
       "      <td>[[Test]]</td>\n",
       "      <td>[[none]]</td>\n",
       "      <td>(39, 37)</td>\n",
       "    </tr>\n",
       "    <tr>\n",
       "      <th>505544</th>\n",
       "      <td>[[0, 0, 0, 0, 0, 0, 0, 0, 0, 0, 0, 0, 1, 2, 1,...</td>\n",
       "      <td>710.0</td>\n",
       "      <td>lot31414</td>\n",
       "      <td>[]</td>\n",
       "      <td>[]</td>\n",
       "      <td>(32, 29)</td>\n",
       "    </tr>\n",
       "    <tr>\n",
       "      <th>196666</th>\n",
       "      <td>[[0, 0, 0, 0, 0, 0, 0, 0, 0, 0, 0, 0, 0, 0, 0,...</td>\n",
       "      <td>3532.0</td>\n",
       "      <td>lot12502</td>\n",
       "      <td>[]</td>\n",
       "      <td>[]</td>\n",
       "      <td>(64, 71)</td>\n",
       "    </tr>\n",
       "    <tr>\n",
       "      <th>31605</th>\n",
       "      <td>[[0, 0, 0, 0, 0, 0, 0, 0, 0, 0, 0, 0, 0, 0, 0,...</td>\n",
       "      <td>776.0</td>\n",
       "      <td>lot3104</td>\n",
       "      <td>[]</td>\n",
       "      <td>[]</td>\n",
       "      <td>(30, 34)</td>\n",
       "    </tr>\n",
       "  </tbody>\n",
       "</table>\n",
       "</div>"
      ],
      "text/plain": [
       "                                                 waferMap  dieSize   lotName  \\\n",
       "184122  [[0, 0, 0, 0, 0, 0, 0, 0, 0, 0, 0, 0, 0, 0, 0,...   1380.0  lot11713   \n",
       "692490  [[0, 0, 0, 0, 0, 0, 0, 0, 0, 0, 0, 0, 0, 0, 0,...   1129.0  lot42720   \n",
       "505544  [[0, 0, 0, 0, 0, 0, 0, 0, 0, 0, 0, 0, 1, 2, 1,...    710.0  lot31414   \n",
       "196666  [[0, 0, 0, 0, 0, 0, 0, 0, 0, 0, 0, 0, 0, 0, 0,...   3532.0  lot12502   \n",
       "31605   [[0, 0, 0, 0, 0, 0, 0, 0, 0, 0, 0, 0, 0, 0, 0,...    776.0   lot3104   \n",
       "\n",
       "       trianTestLabel failureType waferMapDim  \n",
       "184122             []          []    (44, 40)  \n",
       "692490       [[Test]]    [[none]]    (39, 37)  \n",
       "505544             []          []    (32, 29)  \n",
       "196666             []          []    (64, 71)  \n",
       "31605              []          []    (30, 34)  "
      ]
     },
     "execution_count": 11,
     "metadata": {},
     "output_type": "execute_result"
    }
   ],
   "source": [
    "#add wafermapDim column because waferMap dim is different each other.\n",
    "def find_dim(x):\n",
    "    dim0=np.size(x,axis=0)\n",
    "    dim1=np.size(x,axis=1)\n",
    "    return dim0,dim1\n",
    "df['waferMapDim']=df.waferMap.apply(find_dim)\n",
    "df.sample(5)"
   ]
  },
  {
   "cell_type": "code",
   "execution_count": 12,
   "id": "27b671fb",
   "metadata": {
    "papermill": {
     "duration": 5.700309,
     "end_time": "2021-11-07T08:28:33.300480",
     "exception": false,
     "start_time": "2021-11-07T08:28:27.600171",
     "status": "completed"
    },
    "tags": []
   },
   "outputs": [
    {
     "data": {
      "text/plain": [
       "(172950, 25519, 147431)"
      ]
     },
     "execution_count": 12,
     "metadata": {},
     "output_type": "execute_result"
    }
   ],
   "source": [
    "#df_withlabel : labeled wafer\n",
    "#df_withpattern : labeled & patterned wafer \n",
    "#df_nonpatter : labeled but non-patterned wafer\n",
    "defined_df = df.loc[df['failureType'] != 0] #failureType !=0\n",
    "defined_withpattern = defined_df[(defined_df['failureType'] != 'none')]\n",
    "defined__withpattern = defined_withpattern.reset_index() #patterned index.\n",
    "defined_nonpattern = defined_df[(defined_df['failureType'] == 'none')] #nonpatterned index\n",
    "defined_df.shape[0], defined__withpattern.shape[0], defined_nonpattern.shape[0]"
   ]
  },
  {
   "cell_type": "code",
   "execution_count": 13,
   "id": "08342497",
   "metadata": {
    "papermill": {
     "duration": 0.123553,
     "end_time": "2021-11-07T08:28:33.489519",
     "exception": false,
     "start_time": "2021-11-07T08:28:33.365966",
     "status": "completed"
    },
    "tags": []
   },
   "outputs": [
    {
     "data": {
      "text/plain": [
       "waferMapDim\n",
       "(25, 27)     18781\n",
       "(26, 26)     14366\n",
       "(30, 34)     12400\n",
       "(29, 26)     11751\n",
       "(27, 25)     10682\n",
       "             ...  \n",
       "(68, 72)         1\n",
       "(29, 45)         1\n",
       "(38, 62)         1\n",
       "(43, 133)        1\n",
       "(36, 41)         1\n",
       "Name: count, Length: 346, dtype: int64"
      ]
     },
     "execution_count": 13,
     "metadata": {},
     "output_type": "execute_result"
    }
   ],
   "source": [
    "defined_df['waferMapDim'].value_counts() #use (26,26) dim"
   ]
  },
  {
   "cell_type": "code",
   "execution_count": 14,
   "id": "1c5d2e11",
   "metadata": {
    "papermill": {
     "duration": 0.125451,
     "end_time": "2021-11-07T08:28:33.681769",
     "exception": false,
     "start_time": "2021-11-07T08:28:33.556318",
     "status": "completed"
    },
    "tags": []
   },
   "outputs": [],
   "source": [
    "USE_CUDA = torch.cuda.is_available()\n",
    "DEVICE = torch.device(\"cuda\" if USE_CUDA else \"cpu\")"
   ]
  },
  {
   "cell_type": "code",
   "execution_count": 15,
   "id": "f98d3466",
   "metadata": {
    "papermill": {
     "duration": 0.077817,
     "end_time": "2021-11-07T08:28:33.828482",
     "exception": false,
     "start_time": "2021-11-07T08:28:33.750665",
     "status": "completed"
    },
    "tags": []
   },
   "outputs": [],
   "source": [
    "#extract specific dim\n",
    "def subwafer(data, Dim0, Dim1):\n",
    "  sw = torch.ones((1, Dim0, Dim1))\n",
    "  label = list()\n",
    "  Dim0 = np.size(sw, axis=1)\n",
    "  Dim1 = np.size(sw, axis=2)\n",
    "  sub_df = data.loc[data['waferMapDim'] == (Dim0, Dim1)]\n",
    "  sub_wafer = sub_df['waferMap'].values\n",
    "  sw = sw.to(DEVICE)\n",
    "  for i in range(len(sub_df)):\n",
    "    waferMap = torch.from_numpy(sub_df.iloc[i,:]['waferMap'].reshape(1, Dim0, Dim1))\n",
    "    waferMap = waferMap.to(DEVICE)\n",
    "    sw = torch.cat([sw, waferMap]) \n",
    "    label.append(sub_df.iloc[i,:]['failureType'][0][0])\n",
    "  x = sw[1:]\n",
    "  y = np.array(label).reshape((-1,1))\n",
    "  del waferMap, sw\n",
    "  return x, y"
   ]
  },
  {
   "cell_type": "code",
   "execution_count": 16,
   "id": "110d316c",
   "metadata": {
    "papermill": {
     "duration": 16.153832,
     "end_time": "2021-11-07T08:28:50.045858",
     "exception": false,
     "start_time": "2021-11-07T08:28:33.892026",
     "status": "completed"
    },
    "tags": []
   },
   "outputs": [],
   "source": [
    "x, y = subwafer(defined_df,26,26)"
   ]
  },
  {
   "cell_type": "code",
   "execution_count": 17,
   "id": "6c5a8caa",
   "metadata": {
    "papermill": {
     "duration": 22.624423,
     "end_time": "2021-11-07T08:29:12.735633",
     "exception": false,
     "start_time": "2021-11-07T08:28:50.111210",
     "status": "completed"
    },
    "tags": []
   },
   "outputs": [],
   "source": [
    "x1, y1 = subwafer(defined_df, 25, 27)\n",
    "x2, y2 = subwafer(defined_df, 30, 34)"
   ]
  },
  {
   "cell_type": "code",
   "execution_count": 18,
   "id": "17f248ca",
   "metadata": {
    "papermill": {
     "duration": 0.07324,
     "end_time": "2021-11-07T08:29:12.873097",
     "exception": false,
     "start_time": "2021-11-07T08:29:12.799857",
     "status": "completed"
    },
    "tags": []
   },
   "outputs": [
    {
     "data": {
      "text/plain": [
       "(torch.Size([14366, 26, 26]),\n",
       " (14366, 1),\n",
       " torch.Size([18781, 25, 27]),\n",
       " (18781, 1),\n",
       " torch.Size([12400, 30, 34]),\n",
       " (12400, 1))"
      ]
     },
     "execution_count": 18,
     "metadata": {},
     "output_type": "execute_result"
    }
   ],
   "source": [
    "x.shape, y.shape, x1.shape, y1.shape, x2.shape, y2.shape"
   ]
  },
  {
   "cell_type": "code",
   "execution_count": 19,
   "id": "0bd63640",
   "metadata": {
    "papermill": {
     "duration": 0.077019,
     "end_time": "2021-11-07T08:29:13.015256",
     "exception": false,
     "start_time": "2021-11-07T08:29:12.938237",
     "status": "completed"
    },
    "tags": []
   },
   "outputs": [
    {
     "data": {
      "text/plain": [
       "(array([10686]), array([0]))"
      ]
     },
     "execution_count": 19,
     "metadata": {},
     "output_type": "execute_result"
    }
   ],
   "source": [
    "np.where(y=='Donut')"
   ]
  },
  {
   "cell_type": "code",
   "execution_count": 20,
   "id": "895d12a6",
   "metadata": {
    "papermill": {
     "duration": 1.096211,
     "end_time": "2021-11-07T08:29:14.176491",
     "exception": false,
     "start_time": "2021-11-07T08:29:13.080280",
     "status": "completed"
    },
    "tags": []
   },
   "outputs": [
    {
     "data": {
      "text/plain": [
       "Text(0.5, 1.0, 'None')"
      ]
     },
     "execution_count": 20,
     "metadata": {},
     "output_type": "execute_result"
    },
    {
     "data": {
      "image/png": "[encoded data removed]",
      "text/plain": [
       "<Figure size 500x600 with 9 Axes>"
      ]
     },
     "metadata": {},
     "output_type": "display_data"
    }
   ],
   "source": [
    "fig, ax = plt.subplots(3,3, figsize = (5,6))\n",
    "ax[0][0].imshow(x[np.where(y=='Center')[0][20]].to('cpu'))\n",
    "ax[0][0].set_title(\"Center\")\n",
    "ax[0][0].axis(\"off\")\n",
    "ax[0][1].imshow(x[np.where(y=='Donut')[0][0]].to('cpu'))\n",
    "ax[0][1].axis(\"off\")\n",
    "ax[0][1].set_title(\"Donut\")\n",
    "ax[0][2].imshow(x[np.where(y=='Edge-Loc')[0][100]].to('cpu'))\n",
    "ax[0][2].axis(\"off\")\n",
    "ax[0][2].set_title(\"Edge-Loc\")\n",
    "ax[1][0].imshow(x[np.where(y=='Edge-Ring')[0][20]].to('cpu'))\n",
    "ax[1][0].axis(\"off\")\n",
    "ax[1][0].set_title(\"Edge-Ring\")\n",
    "ax[1][1].imshow(x[np.where(y=='Loc')[0][15]].to('cpu'))\n",
    "ax[1][1].axis(\"off\")\n",
    "ax[1][1].set_title(\"Loc\")\n",
    "ax[1][2].imshow(x[np.where(y=='Random')[0][20]].to('cpu'))\n",
    "ax[1][2].axis(\"off\")\n",
    "ax[1][2].set_title(\"Random\")\n",
    "ax[2][0].imshow(x[np.where(y=='Scratch')[0][20]].to('cpu'))\n",
    "ax[2][0].axis(\"off\")\n",
    "ax[2][0].set_title(\"Scratch\")\n",
    "ax[2][1].imshow(x[np.where(y=='Near-full')[0][1]].to('cpu'))\n",
    "ax[2][1].axis(\"off\")\n",
    "ax[2][1].set_title(\"Near-full\")\n",
    "ax[2][2].imshow(x[np.where(y=='none')[0][0]].to('cpu'))\n",
    "ax[2][2].axis(\"off\")\n",
    "ax[2][2].set_title(\"None\")"
   ]
  },
  {
   "cell_type": "code",
   "execution_count": 21,
   "id": "810c8c78",
   "metadata": {
    "papermill": {
     "duration": 0.078363,
     "end_time": "2021-11-07T08:29:14.320025",
     "exception": false,
     "start_time": "2021-11-07T08:29:14.241662",
     "status": "completed"
    },
    "tags": []
   },
   "outputs": [
    {
     "name": "stdout",
     "output_type": "stream",
     "text": [
      "Faulty case list : ['Center' 'Donut' 'Edge-Loc' 'Edge-Ring' 'Loc' 'Near-full' 'Random'\n",
      " 'Scratch' 'none']\n"
     ]
    }
   ],
   "source": [
    "faulty_case = np.unique(y)\n",
    "print('Faulty case list : {}'.format(faulty_case))"
   ]
  },
  {
   "cell_type": "code",
   "execution_count": 22,
   "id": "dad6b748",
   "metadata": {
    "papermill": {
     "duration": 0.081618,
     "end_time": "2021-11-07T08:29:14.470735",
     "exception": false,
     "start_time": "2021-11-07T08:29:14.389117",
     "status": "completed"
    },
    "tags": []
   },
   "outputs": [],
   "source": [
    "def resize(data, Dim0, Dim1):\n",
    "  transPIL = transforms.ToPILImage()\n",
    "  transTensor = transforms.ToTensor()\n",
    "  rwm = torch.ones((1,Dim0,Dim1)).to(DEVICE)\n",
    "  for i in range(len(data)):\n",
    "    a = transPIL(data[i].int()).resize((Dim0,Dim1))\n",
    "    a = transTensor(a).reshape((1,Dim0,Dim1)).to(DEVICE)\n",
    "    rwm = torch.cat([rwm, a])\n",
    "  x = rwm[1:]\n",
    "  del rwm\n",
    "  return x"
   ]
  },
  {
   "cell_type": "code",
   "execution_count": 23,
   "id": "b471fc55",
   "metadata": {
    "papermill": {
     "duration": 13.226812,
     "end_time": "2021-11-07T08:29:27.767141",
     "exception": false,
     "start_time": "2021-11-07T08:29:14.540329",
     "status": "completed"
    },
    "tags": []
   },
   "outputs": [],
   "source": [
    "resized_x1 =resize(x1, 26, 26)\n",
    "resized_x2 =resize(x2, 26, 26)"
   ]
  },
  {
   "cell_type": "code",
   "execution_count": 24,
   "id": "edecd25d",
   "metadata": {
    "papermill": {
     "duration": 0.914894,
     "end_time": "2021-11-07T08:29:28.751139",
     "exception": false,
     "start_time": "2021-11-07T08:29:27.836245",
     "status": "completed"
    },
    "tags": []
   },
   "outputs": [
    {
     "data": {
      "image/png": "[encoded data removed]",
      "text/plain": [
       "<Figure size 640x480 with 1 Axes>"
      ]
     },
     "metadata": {},
     "output_type": "display_data"
    },
    {
     "data": {
      "image/png": "[encoded data removed]",
      "text/plain": [
       "<Figure size 640x480 with 1 Axes>"
      ]
     },
     "metadata": {},
     "output_type": "display_data"
    },
    {
     "data": {
      "image/png": "[encoded data removed]",
      "text/plain": [
       "<Figure size 640x480 with 1 Axes>"
      ]
     },
     "metadata": {},
     "output_type": "display_data"
    },
    {
     "data": {
      "image/png": "[encoded data removed]",
      "text/plain": [
       "<Figure size 640x480 with 1 Axes>"
      ]
     },
     "metadata": {},
     "output_type": "display_data"
    },
    {
     "data": {
      "image/png": "[encoded data removed]",
      "text/plain": [
       "<Figure size 640x480 with 1 Axes>"
      ]
     },
     "metadata": {},
     "output_type": "display_data"
    }
   ],
   "source": [
    "# visualize one of the images in data set\n",
    "def visualize_image(data, index, pred=False, val=0):\n",
    "    '''This funtion can be used to visualize the images'''\n",
    "    Dim0 ,Dim1= np.size(data, axis = 1), np.size(data, axis = 2)\n",
    "    plt.imshow(data[index].reshape(Dim0,Dim1).cpu().int())\n",
    "    plt.axis(\"off\")\n",
    "    plt.title(\"waferMap\")\n",
    "    plt.show()\n",
    "visualize_image(resized_x1, 12)\n",
    "visualize_image(x1, 12)\n",
    "visualize_image(resized_x2, 12)\n",
    "visualize_image(x2, 12)\n",
    "visualize_image(x, 12)"
   ]
  },
  {
   "cell_type": "code",
   "execution_count": 25,
   "id": "37265bd2",
   "metadata": {
    "papermill": {
     "duration": 0.077015,
     "end_time": "2021-11-07T08:29:28.897964",
     "exception": false,
     "start_time": "2021-11-07T08:29:28.820949",
     "status": "completed"
    },
    "tags": []
   },
   "outputs": [],
   "source": [
    "resize_x = torch.cat([resized_x1, resized_x2])"
   ]
  },
  {
   "cell_type": "code",
   "execution_count": 26,
   "id": "345a550c",
   "metadata": {
    "papermill": {
     "duration": 0.08143,
     "end_time": "2021-11-07T08:29:29.048831",
     "exception": false,
     "start_time": "2021-11-07T08:29:28.967401",
     "status": "completed"
    },
    "tags": []
   },
   "outputs": [],
   "source": [
    "y1 = np.concatenate((y1,y2))"
   ]
  },
  {
   "cell_type": "code",
   "execution_count": 27,
   "id": "986c2566",
   "metadata": {
    "papermill": {
     "duration": 0.079477,
     "end_time": "2021-11-07T08:29:29.199393",
     "exception": false,
     "start_time": "2021-11-07T08:29:29.119916",
     "status": "completed"
    },
    "tags": []
   },
   "outputs": [
    {
     "data": {
      "text/plain": [
       "(torch.Size([31181, 26, 26]), (31181, 1))"
      ]
     },
     "execution_count": 27,
     "metadata": {},
     "output_type": "execute_result"
    }
   ],
   "source": [
    "resize_x.shape, y1.shape"
   ]
  },
  {
   "cell_type": "code",
   "execution_count": 28,
   "id": "705a8ba2",
   "metadata": {
    "papermill": {
     "duration": 0.416987,
     "end_time": "2021-11-07T08:29:29.687455",
     "exception": false,
     "start_time": "2021-11-07T08:29:29.270468",
     "status": "completed"
    },
    "tags": []
   },
   "outputs": [
    {
     "data": {
      "image/png": "[encoded data removed]",
      "text/plain": [
       "<Figure size 640x480 with 1 Axes>"
      ]
     },
     "metadata": {},
     "output_type": "display_data"
    },
    {
     "data": {
      "image/png": "[encoded data removed]",
      "text/plain": [
       "<Figure size 640x480 with 1 Axes>"
      ]
     },
     "metadata": {},
     "output_type": "display_data"
    }
   ],
   "source": [
    "visualize_image(x,12000)\n",
    "visualize_image(resized_x2,200)"
   ]
  },
  {
   "cell_type": "code",
   "execution_count": 29,
   "id": "8ad137dc",
   "metadata": {
    "papermill": {
     "duration": 0.077502,
     "end_time": "2021-11-07T08:29:29.837541",
     "exception": false,
     "start_time": "2021-11-07T08:29:29.760039",
     "status": "completed"
    },
    "tags": []
   },
   "outputs": [],
   "source": [
    "#Convolutional Autoencoder\n",
    "# parameter\n",
    "args = {\n",
    "\t'BATCH_SIZE': 32,\n",
    "        'LEARNING_RATE': 0.001,\n",
    "        'NUM_EPOCH': 10\n",
    "        }"
   ]
  },
  {
   "cell_type": "code",
   "execution_count": 30,
   "id": "993abb45",
   "metadata": {
    "papermill": {
     "duration": 0.083074,
     "end_time": "2021-11-07T08:29:29.991473",
     "exception": false,
     "start_time": "2021-11-07T08:29:29.908399",
     "status": "completed"
    },
    "tags": []
   },
   "outputs": [
    {
     "data": {
      "text/plain": [
       "torch.Size([14366, 26, 26])"
      ]
     },
     "execution_count": 30,
     "metadata": {},
     "output_type": "execute_result"
    }
   ],
   "source": [
    "x.shape"
   ]
  },
  {
   "cell_type": "code",
   "execution_count": 31,
   "id": "6d476bcc",
   "metadata": {
    "papermill": {
     "duration": 0.084956,
     "end_time": "2021-11-07T08:29:30.152205",
     "exception": false,
     "start_time": "2021-11-07T08:29:30.067249",
     "status": "completed"
    },
    "tags": []
   },
   "outputs": [],
   "source": [
    "train_loader  = torch.utils.data.DataLoader(x, args['BATCH_SIZE'], shuffle=True, drop_last = True)"
   ]
  },
  {
   "cell_type": "code",
   "execution_count": 32,
   "id": "2d3235a6",
   "metadata": {
    "papermill": {
     "duration": 0.082721,
     "end_time": "2021-11-07T08:29:30.308616",
     "exception": false,
     "start_time": "2021-11-07T08:29:30.225895",
     "status": "completed"
    },
    "tags": []
   },
   "outputs": [],
   "source": [
    "import torch.nn as nn\n",
    "import torch.nn.functional as F\n",
    "import torch.optim as optim\n",
    "import torch.nn.init\n",
    "from torch.utils.data import Dataset, DataLoader,TensorDataset,random_split,SubsetRandomSampler, ConcatDataset"
   ]
  },
  {
   "cell_type": "code",
   "execution_count": 33,
   "id": "07b4ee72",
   "metadata": {
    "papermill": {
     "duration": 0.157158,
     "end_time": "2021-11-07T08:29:30.584745",
     "exception": false,
     "start_time": "2021-11-07T08:29:30.427587",
     "status": "completed"
    },
    "tags": []
   },
   "outputs": [],
   "source": [
    "class Encoder(nn.Module):\n",
    "    def __init__(self):\n",
    "        super(Encoder,self).__init__()\n",
    "        self.layer1 = nn.Sequential(\n",
    "                        nn.Conv2d(1,16,3,padding=1),                            \n",
    "                        nn.ReLU(),\n",
    "                        nn.BatchNorm2d(16),\n",
    "                        nn.Conv2d(16,32,3,padding=1),                         \n",
    "                        nn.ReLU(),\n",
    "                        nn.BatchNorm2d(32),\n",
    "                        nn.Conv2d(32,64,3,padding=1),                        \n",
    "                        nn.ReLU(),\n",
    "                        nn.BatchNorm2d(64),\n",
    "                        nn.MaxPool2d(2,2)                                      \n",
    "        )\n",
    "        self.layer2 = nn.Sequential(\n",
    "                        nn.Conv2d(64,128,3,padding=1),                         \n",
    "                        nn.ReLU(),\n",
    "                        nn.BatchNorm2d(128),\n",
    "                        nn.MaxPool2d(2,2),\n",
    "                        nn.Conv2d(128,256,3,padding=1),                \n",
    "                        nn.ReLU()\n",
    "        )\n",
    "        \n",
    "                \n",
    "    def forward(self,x):\n",
    "        out = self.layer1(x)\n",
    "        out = self.layer2(out)\n",
    "        return out"
   ]
  },
  {
   "cell_type": "code",
   "execution_count": 34,
   "id": "c219ba5d",
   "metadata": {
    "papermill": {
     "duration": 0.14593,
     "end_time": "2021-11-07T08:29:30.857961",
     "exception": false,
     "start_time": "2021-11-07T08:29:30.712031",
     "status": "completed"
    },
    "tags": []
   },
   "outputs": [],
   "source": [
    "class Decoder(nn.Module):\n",
    "    def __init__(self):\n",
    "        super(Decoder,self).__init__()\n",
    "        self.layer1 = nn.Sequential(\n",
    "                        nn.ConvTranspose2d(256,128,3,2,1,0),                 \n",
    "                        nn.ReLU(),\n",
    "                        nn.BatchNorm2d(128),\n",
    "                        nn.ConvTranspose2d(128,64,3,1,0),                  \n",
    "                        nn.ReLU(),\n",
    "                        nn.BatchNorm2d(64)\n",
    "        )\n",
    "        self.layer2 = nn.Sequential(\n",
    "                        nn.ConvTranspose2d(64,32,2,1,0),                 \n",
    "                        nn.ReLU(),\n",
    "                        nn.BatchNorm2d(32),\n",
    "                        nn.ConvTranspose2d(32,16,2,1,0),                 \n",
    "                        nn.ReLU(),\n",
    "                        nn.BatchNorm2d(16),\n",
    "                        nn.ConvTranspose2d(16,1,2,2,2,0),                    \n",
    "                        nn.ReLU()\n",
    "        )\n",
    "        \n",
    "    def forward(self,x):\n",
    "        out = self.layer1(x)\n",
    "        out = self.layer2(out)\n",
    "        return out\n",
    "\n"
   ]
  },
  {
   "cell_type": "code",
   "execution_count": 41,
   "id": "aa94e546-7a52-4df5-965d-b6e135078c23",
   "metadata": {},
   "outputs": [
    {
     "name": "stdout",
     "output_type": "stream",
     "text": [
      "Collecting torchsummary\n",
      "  Downloading torchsummary-1.5.1-py3-none-any.whl.metadata (296 bytes)\n",
      "Downloading torchsummary-1.5.1-py3-none-any.whl (2.8 kB)\n",
      "Installing collected packages: torchsummary\n",
      "Successfully installed torchsummary-1.5.1\n"
     ]
    }
   ],
   "source": [
    "!pip install torchsummary"
   ]
  },
  {
   "cell_type": "code",
   "execution_count": 43,
   "id": "9b9e5bc4",
   "metadata": {
    "papermill": {
     "duration": 10.261061,
     "end_time": "2021-11-07T08:29:41.240471",
     "exception": false,
     "start_time": "2021-11-07T08:29:30.979410",
     "status": "completed"
    },
    "tags": []
   },
   "outputs": [
    {
     "name": "stdout",
     "output_type": "stream",
     "text": [
      "Processing ./torchsummary-1.5.1-py3-none-any.whl\n",
      "torchsummary is already installed with the same version as the provided wheel. Use --force-reinstall to force an installation of the wheel.\n"
     ]
    }
   ],
   "source": [
    "!pip install torchsummary-1.5.1-py3-none-any.whl"
   ]
  },
  {
   "cell_type": "code",
   "execution_count": 45,
   "id": "d8640e28-52ef-465b-89f4-9668ea2ad954",
   "metadata": {},
   "outputs": [
    {
     "name": "stdout",
     "output_type": "stream",
     "text": [
      "Collecting torchinfo\n",
      "  Downloading torchinfo-1.8.0-py3-none-any.whl.metadata (21 kB)\n",
      "Downloading torchinfo-1.8.0-py3-none-any.whl (23 kB)\n",
      "Installing collected packages: torchinfo\n",
      "Successfully installed torchinfo-1.8.0\n",
      "Note: you may need to restart the kernel to use updated packages.\n"
     ]
    }
   ],
   "source": [
    "pip install torchinfo"
   ]
  },
  {
   "cell_type": "code",
   "execution_count": 47,
   "id": "0b6d518f",
   "metadata": {
    "papermill": {
     "duration": 0.263852,
     "end_time": "2021-11-07T08:29:41.581519",
     "exception": false,
     "start_time": "2021-11-07T08:29:41.317667",
     "status": "completed"
    },
    "tags": []
   },
   "outputs": [
    {
     "name": "stdout",
     "output_type": "stream",
     "text": [
      "==========================================================================================\n",
      "Layer (type:depth-idx)                   Output Shape              Param #\n",
      "==========================================================================================\n",
      "├─Sequential: 1-1                        [-1, 64, 13, 13]          --\n",
      "|    └─Conv2d: 2-1                       [-1, 16, 26, 26]          160\n",
      "|    └─ReLU: 2-2                         [-1, 16, 26, 26]          --\n",
      "|    └─BatchNorm2d: 2-3                  [-1, 16, 26, 26]          32\n",
      "|    └─Conv2d: 2-4                       [-1, 32, 26, 26]          4,640\n",
      "|    └─ReLU: 2-5                         [-1, 32, 26, 26]          --\n",
      "|    └─BatchNorm2d: 2-6                  [-1, 32, 26, 26]          64\n",
      "|    └─Conv2d: 2-7                       [-1, 64, 26, 26]          18,496\n",
      "|    └─ReLU: 2-8                         [-1, 64, 26, 26]          --\n",
      "|    └─BatchNorm2d: 2-9                  [-1, 64, 26, 26]          128\n",
      "|    └─MaxPool2d: 2-10                   [-1, 64, 13, 13]          --\n",
      "├─Sequential: 1-2                        [-1, 256, 6, 6]           --\n",
      "|    └─Conv2d: 2-11                      [-1, 128, 13, 13]         73,856\n",
      "|    └─ReLU: 2-12                        [-1, 128, 13, 13]         --\n",
      "|    └─BatchNorm2d: 2-13                 [-1, 128, 13, 13]         256\n",
      "|    └─MaxPool2d: 2-14                   [-1, 128, 6, 6]           --\n",
      "|    └─Conv2d: 2-15                      [-1, 256, 6, 6]           295,168\n",
      "|    └─ReLU: 2-16                        [-1, 256, 6, 6]           --\n",
      "==========================================================================================\n",
      "Total params: 392,800\n",
      "Trainable params: 392,800\n",
      "Non-trainable params: 0\n",
      "Total mult-adds (M): 39.14\n",
      "==========================================================================================\n",
      "Input size (MB): 0.00\n",
      "Forward/backward pass size (MB): 1.56\n",
      "Params size (MB): 1.50\n",
      "Estimated Total Size (MB): 3.06\n",
      "==========================================================================================\n",
      "==========================================================================================\n",
      "Layer (type:depth-idx)                   Output Shape              Param #\n",
      "==========================================================================================\n",
      "├─Sequential: 1-1                        [-1, 64, 13, 13]          --\n",
      "|    └─ConvTranspose2d: 2-1              [-1, 128, 11, 11]         295,040\n",
      "|    └─ReLU: 2-2                         [-1, 128, 11, 11]         --\n",
      "|    └─BatchNorm2d: 2-3                  [-1, 128, 11, 11]         256\n",
      "|    └─ConvTranspose2d: 2-4              [-1, 64, 13, 13]          73,792\n",
      "|    └─ReLU: 2-5                         [-1, 64, 13, 13]          --\n",
      "|    └─BatchNorm2d: 2-6                  [-1, 64, 13, 13]          128\n",
      "├─Sequential: 1-2                        [-1, 1, 26, 26]           --\n",
      "|    └─ConvTranspose2d: 2-7              [-1, 32, 14, 14]          8,224\n",
      "|    └─ReLU: 2-8                         [-1, 32, 14, 14]          --\n",
      "|    └─BatchNorm2d: 2-9                  [-1, 32, 14, 14]          64\n",
      "|    └─ConvTranspose2d: 2-10             [-1, 16, 15, 15]          2,064\n",
      "|    └─ReLU: 2-11                        [-1, 16, 15, 15]          --\n",
      "|    └─BatchNorm2d: 2-12                 [-1, 16, 15, 15]          32\n",
      "|    └─ConvTranspose2d: 2-13             [-1, 1, 26, 26]           65\n",
      "|    └─ReLU: 2-14                        [-1, 1, 26, 26]           --\n",
      "==========================================================================================\n",
      "Total params: 379,665\n",
      "Trainable params: 379,665\n",
      "Non-trainable params: 0\n",
      "Total mult-adds (M): 50.63\n",
      "==========================================================================================\n",
      "Input size (MB): 0.04\n",
      "Forward/backward pass size (MB): 0.56\n",
      "Params size (MB): 1.45\n",
      "Estimated Total Size (MB): 2.04\n",
      "==========================================================================================\n"
     ]
    },
    {
     "data": {
      "text/plain": [
       "==========================================================================================\n",
       "Layer (type:depth-idx)                   Output Shape              Param #\n",
       "==========================================================================================\n",
       "├─Sequential: 1-1                        [-1, 64, 13, 13]          --\n",
       "|    └─ConvTranspose2d: 2-1              [-1, 128, 11, 11]         295,040\n",
       "|    └─ReLU: 2-2                         [-1, 128, 11, 11]         --\n",
       "|    └─BatchNorm2d: 2-3                  [-1, 128, 11, 11]         256\n",
       "|    └─ConvTranspose2d: 2-4              [-1, 64, 13, 13]          73,792\n",
       "|    └─ReLU: 2-5                         [-1, 64, 13, 13]          --\n",
       "|    └─BatchNorm2d: 2-6                  [-1, 64, 13, 13]          128\n",
       "├─Sequential: 1-2                        [-1, 1, 26, 26]           --\n",
       "|    └─ConvTranspose2d: 2-7              [-1, 32, 14, 14]          8,224\n",
       "|    └─ReLU: 2-8                         [-1, 32, 14, 14]          --\n",
       "|    └─BatchNorm2d: 2-9                  [-1, 32, 14, 14]          64\n",
       "|    └─ConvTranspose2d: 2-10             [-1, 16, 15, 15]          2,064\n",
       "|    └─ReLU: 2-11                        [-1, 16, 15, 15]          --\n",
       "|    └─BatchNorm2d: 2-12                 [-1, 16, 15, 15]          32\n",
       "|    └─ConvTranspose2d: 2-13             [-1, 1, 26, 26]           65\n",
       "|    └─ReLU: 2-14                        [-1, 1, 26, 26]           --\n",
       "==========================================================================================\n",
       "Total params: 379,665\n",
       "Trainable params: 379,665\n",
       "Non-trainable params: 0\n",
       "Total mult-adds (M): 50.63\n",
       "==========================================================================================\n",
       "Input size (MB): 0.04\n",
       "Forward/backward pass size (MB): 0.56\n",
       "Params size (MB): 1.45\n",
       "Estimated Total Size (MB): 2.04\n",
       "=========================================================================================="
      ]
     },
     "execution_count": 47,
     "metadata": {},
     "output_type": "execute_result"
    }
   ],
   "source": [
    "from torchsummary import summary\n",
    "encoder = Encoder().to(DEVICE)\n",
    "decoder = Decoder().to(DEVICE)\n",
    "parameters = list(encoder.parameters())+ list(decoder.parameters())\n",
    "criterion = nn.MSELoss()\n",
    "optimizer = torch.optim.Adam(parameters, lr=args['LEARNING_RATE'])\n",
    "summary(encoder,(1,26,26))\n",
    "summary(decoder,(256,6,6))"
   ]
  },
  {
   "cell_type": "code",
   "execution_count": 48,
   "id": "3a2eb8d2",
   "metadata": {
    "papermill": {
     "duration": 74.575581,
     "end_time": "2021-11-07T08:30:56.233884",
     "exception": false,
     "start_time": "2021-11-07T08:29:41.658303",
     "status": "completed"
    },
    "tags": []
   },
   "outputs": [
    {
     "name": "stdout",
     "output_type": "stream",
     "text": [
      "torch.Size([14366, 26, 26])\n",
      "Epoch: 1/10 => loss : 8.117\n",
      "Epoch: 2/10 => loss : 5.788\n",
      "Epoch: 3/10 => loss : 4.911\n",
      "Epoch: 4/10 => loss : 4.131\n",
      "Epoch: 5/10 => loss : 4.063\n",
      "Epoch: 6/10 => loss : 4.028\n",
      "Epoch: 7/10 => loss : 3.978\n",
      "Epoch: 8/10 => loss : 3.909\n",
      "Epoch: 9/10 => loss : 3.898\n",
      "Epoch: 10/10 => loss : 3.890\n"
     ]
    }
   ],
   "source": [
    "steps = 0\n",
    "print(x.shape)\n",
    "losses =[]\n",
    "total_steps = len(train_loader)\n",
    "running_loss = 0\n",
    "iterations = []\n",
    "for epoch in range(args['NUM_EPOCH']):\n",
    "    for i,wafer in enumerate(train_loader):\n",
    "        steps += 1\n",
    "        wafer = wafer.to(DEVICE).unsqueeze(1).float()\n",
    "        optimizer.zero_grad()\n",
    "        output = encoder(wafer)\n",
    "        output = decoder(output)\n",
    "        loss = criterion(output, wafer) #autoencoder loss : compare input & output\n",
    "        running_loss += loss.item()*wafer.size(0)\n",
    "        loss.backward()\n",
    "        optimizer.step()\n",
    "        if steps % total_steps == 0:\n",
    "            encoder.eval(), decoder.eval()\n",
    "            print('Epoch: {}/{}'.format(epoch+1, args['NUM_EPOCH']),\n",
    "                 \"=> loss : %.3f\"%(running_loss / total_steps))\n",
    "            steps = 0\n",
    "            running_loss = 0\n",
    "            iterations.append(i)\n",
    "            losses.append(running_loss / total_steps)\n",
    "            encoder.train(), decoder.train()"
   ]
  },
  {
   "cell_type": "code",
   "execution_count": 49,
   "id": "6b7d66c9",
   "metadata": {
    "papermill": {
     "duration": 0.129871,
     "end_time": "2021-11-07T08:30:56.444289",
     "exception": false,
     "start_time": "2021-11-07T08:30:56.314418",
     "status": "completed"
    },
    "tags": []
   },
   "outputs": [],
   "source": [
    "PATH = \"/output\"\n",
    "torch.save({\n",
    "            'epoch': args['NUM_EPOCH'],\n",
    "            'encoder_state_dict': encoder.state_dict(),\n",
    "            'decoder_state_dict': decoder.state_dict(),\n",
    "            'optimizer_state_dict': optimizer.state_dict(),\n",
    "            'loss': criterion\n",
    "            }, PATH)"
   ]
  },
  {
   "cell_type": "code",
   "execution_count": 50,
   "id": "3b12873a",
   "metadata": {
    "papermill": {
     "duration": 0.093207,
     "end_time": "2021-11-07T08:30:56.617153",
     "exception": false,
     "start_time": "2021-11-07T08:30:56.523946",
     "status": "completed"
    },
    "tags": []
   },
   "outputs": [
    {
     "data": {
      "text/plain": [
       "array(['Center', 'Donut', 'Edge-Loc', 'Edge-Ring', 'Loc', 'Near-full',\n",
       "       'Random', 'Scratch', 'none'], dtype='<U9')"
      ]
     },
     "execution_count": 50,
     "metadata": {},
     "output_type": "execute_result"
    }
   ],
   "source": [
    "np.unique(y)"
   ]
  },
  {
   "cell_type": "code",
   "execution_count": 51,
   "id": "e6fb9a5d",
   "metadata": {
    "papermill": {
     "duration": 0.117322,
     "end_time": "2021-11-07T08:30:56.816356",
     "exception": false,
     "start_time": "2021-11-07T08:30:56.699034",
     "status": "completed"
    },
    "tags": []
   },
   "outputs": [
    {
     "data": {
      "text/plain": [
       "(array([10686]), array([0]))"
      ]
     },
     "execution_count": 51,
     "metadata": {},
     "output_type": "execute_result"
    }
   ],
   "source": [
    "np.where(y=='Donut')"
   ]
  },
  {
   "cell_type": "code",
   "execution_count": 52,
   "id": "dafb752a",
   "metadata": {
    "papermill": {
     "duration": 0.135955,
     "end_time": "2021-11-07T08:30:57.031854",
     "exception": false,
     "start_time": "2021-11-07T08:30:56.895899",
     "status": "completed"
    },
    "tags": []
   },
   "outputs": [],
   "source": [
    " with torch.no_grad():\n",
    "    encoded_x = encoder(x[10686].reshape(1,1,26,26).to(DEVICE))\n",
    "    noised_encoded_x = (encoded_x + torch.from_numpy(np.random.normal(loc=0, scale=0.35, size = (len(encoded_x),256,6,6))).to(DEVICE))\n",
    "    noised_decoded_x = decoder(noised_encoded_x.float())\n",
    "    noised_decoded_x2 = decoder(encoded_x.float())"
   ]
  },
  {
   "cell_type": "code",
   "execution_count": 53,
   "id": "a6e8fe53",
   "metadata": {
    "papermill": {
     "duration": 0.884137,
     "end_time": "2021-11-07T08:30:57.996759",
     "exception": false,
     "start_time": "2021-11-07T08:30:57.112622",
     "status": "completed"
    },
    "tags": []
   },
   "outputs": [
    {
     "data": {
      "text/plain": [
       "<matplotlib.image.AxesImage at 0x3c23046d0>"
      ]
     },
     "execution_count": 53,
     "metadata": {},
     "output_type": "execute_result"
    },
    {
     "data": {
      "image/png": "[encoded data removed]",
      "text/plain": [
       "<Figure size 1200x600 with 3 Axes>"
      ]
     },
     "metadata": {},
     "output_type": "display_data"
    }
   ],
   "source": [
    "fig, ax = plt.subplots(1,3, figsize = (12,6))\n",
    "c = noised_decoded_x.cpu().numpy()\n",
    "ax[0].imshow(c[0][0])\n",
    "d = noised_decoded_x2.cpu().numpy()\n",
    "ax[1].imshow(d[0][0])\n",
    "ax[2].imshow(x[10686].cpu())"
   ]
  },
  {
   "cell_type": "code",
   "execution_count": 54,
   "id": "6ce6b92f",
   "metadata": {
    "papermill": {
     "duration": 0.096156,
     "end_time": "2021-11-07T08:30:58.174611",
     "exception": false,
     "start_time": "2021-11-07T08:30:58.078455",
     "status": "completed"
    },
    "tags": []
   },
   "outputs": [],
   "source": [
    "# augment function define\n",
    "def gen_data(data, label):\n",
    "  Dim0 = np.size(data, axis=1)\n",
    "  Dim1 = np.size(data, axis=2)\n",
    "  gen_x = torch.zeros((1, 1, Dim0, Dim1)).to(DEVICE)\n",
    "  encoded_x = encoder(data.unsqueeze(1).to(DEVICE)).to(torch.device('cpu'))\n",
    "  with torch.no_grad():\n",
    "    # dummy array for collecting noised wafer \n",
    "    # Make wafer until total # of wafer to 3000\n",
    "    for i in range((3000//len(data)) + 1):\n",
    "        noised_encoded_x = (encoded_x + torch.from_numpy(np.random.normal(loc=0, scale=0.3, size = (len(encoded_x),256,6,6)))).to(DEVICE)\n",
    "        noised_decoded_x = decoder(noised_encoded_x.float())\n",
    "        noised_decoded_x = np.where(noised_decoded_x.to('cpu').numpy() <0.01, 0, noised_decoded_x.to('cpu').numpy())\n",
    "        noised_decoded_x = np.where((noised_decoded_x >0.01)&(noised_decoded_x<=1.2), 1, noised_decoded_x)\n",
    "        noised_decoded_x = np.where(noised_decoded_x > 1.2, 2, noised_decoded_x)\n",
    "        noised_decoded_x = torch.from_numpy(noised_decoded_x).to(DEVICE)\n",
    "        gen_x = torch.cat([gen_x, noised_decoded_x], axis=0)\n",
    "    # also make label vector with same length\n",
    "    gen_y = np.full((len(gen_x), 1), label)\n",
    "    # return date without 1st dummy data.\n",
    "  return gen_x[1:], gen_y[1:]"
   ]
  },
  {
   "cell_type": "code",
   "execution_count": 55,
   "id": "59fb9121",
   "metadata": {
    "papermill": {
     "duration": 18.419714,
     "end_time": "2021-11-07T08:31:16.676519",
     "exception": false,
     "start_time": "2021-11-07T08:30:58.256805",
     "status": "completed"
    },
    "tags": []
   },
   "outputs": [],
   "source": [
    "# Augmentation for all faulty case.\n",
    "for f in faulty_case : \n",
    "    # skip none case\n",
    "    if f == 'none' : \n",
    "        continue\n",
    "    gen_x, gen_y = gen_data(x[np.where(y==f)[0]].to(DEVICE), f)\n",
    "    x = torch.cat([x.to(DEVICE), gen_x.squeeze(1)], axis=0)\n",
    "    y = np.concatenate((y, gen_y))"
   ]
  },
  {
   "cell_type": "code",
   "execution_count": 56,
   "id": "ba7e8108",
   "metadata": {
    "papermill": {
     "duration": 0.093276,
     "end_time": "2021-11-07T08:31:16.863292",
     "exception": false,
     "start_time": "2021-11-07T08:31:16.770016",
     "status": "completed"
    },
    "tags": []
   },
   "outputs": [
    {
     "name": "stdout",
     "output_type": "stream",
     "text": [
      "After Generate resized_wm shape : torch.Size([39023, 26, 26]), label_wm shape : (39023, 1)\n"
     ]
    }
   ],
   "source": [
    "print('After Generate resized_wm shape : {}, label_wm shape : {}'.format(x.shape, y.shape))"
   ]
  },
  {
   "cell_type": "code",
   "execution_count": 57,
   "id": "6f5676f0",
   "metadata": {
    "papermill": {
     "duration": 0.099374,
     "end_time": "2021-11-07T08:31:17.042342",
     "exception": false,
     "start_time": "2021-11-07T08:31:16.942968",
     "status": "completed"
    },
    "tags": []
   },
   "outputs": [
    {
     "name": "stdout",
     "output_type": "stream",
     "text": [
      "Center : 3150\n",
      "Donut : 3002\n",
      "Edge-Loc : 3552\n",
      "Edge-Ring : 3038\n",
      "Loc : 3564\n",
      "Near-full : 3024\n",
      "Random : 3108\n",
      "Scratch : 3096\n",
      "none : 13489\n"
     ]
    }
   ],
   "source": [
    "for f in faulty_case :\n",
    "    print('{} : {}'.format(f, len(y[y==f])))"
   ]
  },
  {
   "cell_type": "code",
   "execution_count": 58,
   "id": "e7e78137",
   "metadata": {
    "papermill": {
     "duration": 0.216532,
     "end_time": "2021-11-07T08:31:17.342033",
     "exception": false,
     "start_time": "2021-11-07T08:31:17.125501",
     "status": "completed"
    },
    "tags": []
   },
   "outputs": [],
   "source": [
    "none_idx = np.where(y=='none')[0][np.random.choice(len(np.where(y=='none')[0]), size=10489, replace=False)]\n",
    "Edge_Loc_idx = np.where(y=='Edge-Loc')[0][np.random.choice(len(np.where(y=='Edge-Loc')[0]), size=552, replace=False)]\n",
    "Loc_idx = np.where(y=='Loc')[0][np.random.choice(len(np.where(y=='Loc')[0]), size=564, replace=False)]\n",
    "delete_idx = np.concatenate((none_idx,Edge_Loc_idx,Loc_idx))\n",
    "remove_wm = np.delete(x.to('cpu').numpy(), delete_idx, axis=0)\n",
    "resized_wm = torch.from_numpy(remove_wm)"
   ]
  },
  {
   "cell_type": "code",
   "execution_count": 59,
   "id": "8bb39d9f",
   "metadata": {
    "papermill": {
     "duration": 0.090233,
     "end_time": "2021-11-07T08:31:17.515308",
     "exception": false,
     "start_time": "2021-11-07T08:31:17.425075",
     "status": "completed"
    },
    "tags": []
   },
   "outputs": [],
   "source": [
    "label_wm = np.delete(y, delete_idx, axis=0)"
   ]
  },
  {
   "cell_type": "code",
   "execution_count": 60,
   "id": "004b2f22",
   "metadata": {
    "papermill": {
     "duration": 0.098974,
     "end_time": "2021-11-07T08:31:17.693922",
     "exception": false,
     "start_time": "2021-11-07T08:31:17.594948",
     "status": "completed"
    },
    "tags": []
   },
   "outputs": [
    {
     "name": "stdout",
     "output_type": "stream",
     "text": [
      "Center : 3150\n",
      "Donut : 3002\n",
      "Edge-Loc : 3000\n",
      "Edge-Ring : 3038\n",
      "Loc : 3000\n",
      "Near-full : 3024\n",
      "Random : 3108\n",
      "Scratch : 3096\n",
      "none : 3000\n"
     ]
    }
   ],
   "source": [
    "for f in faulty_case :\n",
    "    print('{} : {}'.format(f, len(label_wm[label_wm==f])))"
   ]
  },
  {
   "cell_type": "code",
   "execution_count": 61,
   "id": "bcba6c11",
   "metadata": {
    "papermill": {
     "duration": 0.36833,
     "end_time": "2021-11-07T08:31:18.144251",
     "exception": false,
     "start_time": "2021-11-07T08:31:17.775921",
     "status": "completed"
    },
    "tags": []
   },
   "outputs": [
    {
     "data": {
      "image/png": "[encoded data removed]",
      "text/plain": [
       "<Figure size 640x480 with 1 Axes>"
      ]
     },
     "metadata": {},
     "output_type": "display_data"
    }
   ],
   "source": [
    "n, bins, patches = plt.hist(label_wm, bins=9)\n",
    "plt.xticks(rotation=90)\n",
    "plt.show()"
   ]
  },
  {
   "cell_type": "code",
   "execution_count": 62,
   "id": "3ad9e1ce",
   "metadata": {
    "papermill": {
     "duration": 0.122125,
     "end_time": "2021-11-07T08:31:18.348232",
     "exception": false,
     "start_time": "2021-11-07T08:31:18.226107",
     "status": "completed"
    },
    "tags": []
   },
   "outputs": [
    {
     "name": "stdout",
     "output_type": "stream",
     "text": [
      "i : 0, l : Center\n",
      "i : 1, l : Donut\n",
      "i : 2, l : Edge-Loc\n",
      "i : 3, l : Edge-Ring\n",
      "i : 4, l : Loc\n",
      "i : 5, l : Near-full\n",
      "i : 6, l : Random\n",
      "i : 7, l : Scratch\n",
      "i : 8, l : none\n"
     ]
    }
   ],
   "source": [
    "# one-hot-encoding\n",
    "for i, l in enumerate(faulty_case):\n",
    "    label_wm[label_wm==l] = i    \n",
    "    print('i : {}, l : {}'.format(i, l))\n",
    "def _to_one_hot(y, num_classes):\n",
    "    scatter_dim = len(y.size())\n",
    "    y_tensor = y.view(*y.size(), -1)\n",
    "    zeros = torch.zeros(*y.size(), num_classes, dtype=y.dtype)\n",
    "    return zeros.scatter(scatter_dim, y_tensor, 1)\n",
    "label_wm = _to_one_hot(torch.as_tensor(np.int64(label_wm)), num_classes=9)"
   ]
  },
  {
   "cell_type": "code",
   "execution_count": 63,
   "id": "15e35690",
   "metadata": {
    "papermill": {
     "duration": 0.092632,
     "end_time": "2021-11-07T08:31:18.525904",
     "exception": false,
     "start_time": "2021-11-07T08:31:18.433272",
     "status": "completed"
    },
    "tags": []
   },
   "outputs": [],
   "source": [
    "visualdata = torch.utils.data.TensorDataset(resized_wm, label_wm)\n",
    "resizeLoader = DataLoader(visualdata, shuffle = True)"
   ]
  },
  {
   "cell_type": "code",
   "execution_count": 64,
   "id": "d9d82bd7",
   "metadata": {
    "papermill": {
     "duration": 0.376732,
     "end_time": "2021-11-07T08:31:18.986722",
     "exception": false,
     "start_time": "2021-11-07T08:31:18.609990",
     "status": "completed"
    },
    "tags": []
   },
   "outputs": [
    {
     "name": "stdout",
     "output_type": "stream",
     "text": [
      "tensor(1)\n"
     ]
    },
    {
     "data": {
      "image/png": "[encoded data removed]",
      "text/plain": [
       "<Figure size 640x480 with 1 Axes>"
      ]
     },
     "metadata": {},
     "output_type": "display_data"
    }
   ],
   "source": [
    "def visual(x):\n",
    "    images, labels = next(iter(x))\n",
    "    plt.imshow(images.squeeze(0).to('cpu'))\n",
    "    print(torch.argmax(labels))\n",
    "visual(resizeLoader)"
   ]
  },
  {
   "cell_type": "code",
   "execution_count": 67,
   "id": "7de2bda1-07c2-42fe-a394-4e4f7558f8fd",
   "metadata": {},
   "outputs": [
    {
     "data": {
      "text/plain": [
       "'torch.FloatTensor'"
      ]
     },
     "execution_count": 67,
     "metadata": {},
     "output_type": "execute_result"
    }
   ],
   "source": [
    "resized_wm.type()"
   ]
  },
  {
   "cell_type": "code",
   "execution_count": 70,
   "id": "91ad9d43-39b1-4213-96f5-c34da3b3868a",
   "metadata": {},
   "outputs": [
    {
     "data": {
      "text/plain": [
       "'torch.LongTensor'"
      ]
     },
     "execution_count": 70,
     "metadata": {},
     "output_type": "execute_result"
    }
   ],
   "source": [
    "label_wm.type()"
   ]
  },
  {
   "cell_type": "code",
   "execution_count": 71,
   "id": "49803083",
   "metadata": {
    "papermill": {
     "duration": 0.093414,
     "end_time": "2021-11-07T08:31:19.164313",
     "exception": false,
     "start_time": "2021-11-07T08:31:19.070899",
     "status": "completed"
    },
    "tags": []
   },
   "outputs": [],
   "source": [
    "from sklearn import model_selection"
   ]
  },
  {
   "cell_type": "code",
   "execution_count": 72,
   "id": "1295bd65",
   "metadata": {
    "papermill": {
     "duration": 0.144788,
     "end_time": "2021-11-07T08:31:19.394315",
     "exception": false,
     "start_time": "2021-11-07T08:31:19.249527",
     "status": "completed"
    },
    "tags": []
   },
   "outputs": [],
   "source": [
    "train_X, test_X, train_Y, test_Y = model_selection.train_test_split(resized_wm, label_wm , test_size=0.2)\n",
    "train = torch.utils.data.TensorDataset(train_X,train_Y)\n",
    "test = torch.utils.data.TensorDataset(test_X,test_Y)\n",
    "dataset = ConcatDataset([train, test])"
   ]
  },
  {
   "cell_type": "code",
   "execution_count": 76,
   "id": "62af9c52-30d5-4a64-9efd-bcef35154036",
   "metadata": {},
   "outputs": [],
   "source": [
    "import numpy as np\n",
    "import pandas as pd\n",
    "\n",
    "# Assuming each item in `dataset` is a tuple of (features, labels)\n",
    "features = [item[0].numpy() for item in dataset]  # Convert to numpy\n",
    "labels = [item[1].numpy() for item in dataset]    # Convert to numpy\n",
    "\n",
    "# Save features and labels separately\n",
    "np.savez('Dataset2/combined_dataset.npz', features=features, labels=labels)\n",
    "\n",
    "# Alternatively, save as a DataFrame\n",
    "df = pd.DataFrame({'features': features, 'labels': labels})\n",
    "df.to_csv('Dataset2/combined_dataset.csv', index=False)\n"
   ]
  },
  {
   "cell_type": "code",
   "execution_count": 80,
   "id": "6b287a02",
   "metadata": {
    "papermill": {
     "duration": 0.105854,
     "end_time": "2021-11-07T08:31:19.584812",
     "exception": false,
     "start_time": "2021-11-07T08:31:19.478958",
     "status": "completed"
    },
    "tags": []
   },
   "outputs": [],
   "source": [
    "class CNN(nn.Module):\n",
    "    def __init__(self):\n",
    "        super(CNN, self).__init__()\n",
    "\n",
    "        self.layer1 =nn.Sequential(\n",
    "            nn.Conv2d(1, 32, kernel_size=3, stride=1, padding=1),\n",
    "            nn.BatchNorm2d(32),\n",
    "            nn.ReLU(),\n",
    "            nn.MaxPool2d(kernel_size=2, stride=2))\n",
    "\n",
    "    \n",
    "        self.layer2 = nn.Sequential(\n",
    "            nn.Conv2d(32, 64, kernel_size=3, stride=1, padding=1), \n",
    "            nn.BatchNorm2d(64),\n",
    "            nn.ReLU(),\n",
    "            nn.MaxPool2d(kernel_size=2, stride=2))\n",
    "        \n",
    "\n",
    "        self.layer3 = nn.Sequential(\n",
    "            nn.Conv2d(64, 128, kernel_size=3, stride=1, padding=1),\n",
    "            nn.BatchNorm2d(128),\n",
    "            nn.ReLU(),\n",
    "            nn.MaxPool2d(kernel_size=2, stride=2, padding=1))\n",
    "        \n",
    "        self.fc1 = nn.Linear(4 * 4 * 128, 625, bias=True) # fully connected, \n",
    "        nn.init.kaiming_uniform_(self.fc1.weight)\n",
    "        self.layer4 = nn.Sequential(\n",
    "            self.fc1,\n",
    "            nn.ReLU())\n",
    "        self.fc2 = nn.Linear(625, 9, bias=True)\n",
    "        nn.init.kaiming_uniform_(self.fc2.weight)      \n",
    "        \n",
    "    def printout(self, x):\n",
    "        out = self.layer1(x)\n",
    "        print(out)\n",
    "        out = self.layer2(out)\n",
    "        print(out)\n",
    "        out = self.layer3(out)\n",
    "        print(out)\n",
    "        out = out.view(out.size(0), -1)  \n",
    "        out = self.layer4(out)\n",
    "        print(out)\n",
    "        out = self.fc2(out)\n",
    "    def forward(self, x):\n",
    "        out = self.layer1(x)\n",
    "        out = self.layer2(out)\n",
    "        out = self.layer3(out)\n",
    "        out = out.view(out.size(0), -1)\n",
    "        out = self.layer4(out)\n",
    "        out = self.fc2(out)\n",
    "        return out    "
   ]
  },
  {
   "cell_type": "code",
   "execution_count": 81,
   "id": "9dcce948",
   "metadata": {
    "papermill": {
     "duration": 0.145096,
     "end_time": "2021-11-07T08:31:19.814669",
     "exception": false,
     "start_time": "2021-11-07T08:31:19.669573",
     "status": "completed"
    },
    "tags": []
   },
   "outputs": [
    {
     "name": "stdout",
     "output_type": "stream",
     "text": [
      "CNN(\n",
      "  (layer1): Sequential(\n",
      "    (0): Conv2d(1, 32, kernel_size=(3, 3), stride=(1, 1), padding=(1, 1))\n",
      "    (1): BatchNorm2d(32, eps=1e-05, momentum=0.1, affine=True, track_running_stats=True)\n",
      "    (2): ReLU()\n",
      "    (3): MaxPool2d(kernel_size=2, stride=2, padding=0, dilation=1, ceil_mode=False)\n",
      "  )\n",
      "  (layer2): Sequential(\n",
      "    (0): Conv2d(32, 64, kernel_size=(3, 3), stride=(1, 1), padding=(1, 1))\n",
      "    (1): BatchNorm2d(64, eps=1e-05, momentum=0.1, affine=True, track_running_stats=True)\n",
      "    (2): ReLU()\n",
      "    (3): MaxPool2d(kernel_size=2, stride=2, padding=0, dilation=1, ceil_mode=False)\n",
      "  )\n",
      "  (layer3): Sequential(\n",
      "    (0): Conv2d(64, 128, kernel_size=(3, 3), stride=(1, 1), padding=(1, 1))\n",
      "    (1): BatchNorm2d(128, eps=1e-05, momentum=0.1, affine=True, track_running_stats=True)\n",
      "    (2): ReLU()\n",
      "    (3): MaxPool2d(kernel_size=2, stride=2, padding=1, dilation=1, ceil_mode=False)\n",
      "  )\n",
      "  (fc1): Linear(in_features=2048, out_features=625, bias=True)\n",
      "  (layer4): Sequential(\n",
      "    (0): Linear(in_features=2048, out_features=625, bias=True)\n",
      "    (1): ReLU()\n",
      "  )\n",
      "  (fc2): Linear(in_features=625, out_features=9, bias=True)\n",
      ")\n",
      "==========================================================================================\n",
      "Layer (type:depth-idx)                   Output Shape              Param #\n",
      "==========================================================================================\n",
      "├─Sequential: 1-1                        [-1, 32, 13, 13]          --\n",
      "|    └─Conv2d: 2-1                       [-1, 32, 26, 26]          320\n",
      "|    └─BatchNorm2d: 2-2                  [-1, 32, 26, 26]          64\n",
      "|    └─ReLU: 2-3                         [-1, 32, 26, 26]          --\n",
      "|    └─MaxPool2d: 2-4                    [-1, 32, 13, 13]          --\n",
      "├─Sequential: 1-2                        [-1, 64, 6, 6]            --\n",
      "|    └─Conv2d: 2-5                       [-1, 64, 13, 13]          18,496\n",
      "|    └─BatchNorm2d: 2-6                  [-1, 64, 13, 13]          128\n",
      "|    └─ReLU: 2-7                         [-1, 64, 13, 13]          --\n",
      "|    └─MaxPool2d: 2-8                    [-1, 64, 6, 6]            --\n",
      "├─Sequential: 1-3                        [-1, 128, 4, 4]           --\n",
      "|    └─Conv2d: 2-9                       [-1, 128, 6, 6]           73,856\n",
      "|    └─BatchNorm2d: 2-10                 [-1, 128, 6, 6]           256\n",
      "|    └─ReLU: 2-11                        [-1, 128, 6, 6]           --\n",
      "|    └─MaxPool2d: 2-12                   [-1, 128, 4, 4]           --\n",
      "├─Sequential: 1-4                        [-1, 625]                 --\n",
      "├─Linear: 1-5                            [-1, 625]                 1,280,625\n",
      "├─Sequential: 1                          []                        --\n",
      "|    └─Linear: 2-13                      [-1, 625]                 (recursive)\n",
      "|    └─ReLU: 2-14                        [-1, 625]                 --\n",
      "├─Linear: 1-6                            [-1, 9]                   5,634\n",
      "==========================================================================================\n",
      "Total params: 1,379,379\n",
      "Trainable params: 1,379,379\n",
      "Non-trainable params: 0\n",
      "Total mult-adds (M): 9.90\n",
      "==========================================================================================\n",
      "Input size (MB): 0.00\n",
      "Forward/backward pass size (MB): 0.57\n",
      "Params size (MB): 5.26\n",
      "Estimated Total Size (MB): 5.83\n",
      "==========================================================================================\n"
     ]
    },
    {
     "data": {
      "text/plain": [
       "==========================================================================================\n",
       "Layer (type:depth-idx)                   Output Shape              Param #\n",
       "==========================================================================================\n",
       "├─Sequential: 1-1                        [-1, 32, 13, 13]          --\n",
       "|    └─Conv2d: 2-1                       [-1, 32, 26, 26]          320\n",
       "|    └─BatchNorm2d: 2-2                  [-1, 32, 26, 26]          64\n",
       "|    └─ReLU: 2-3                         [-1, 32, 26, 26]          --\n",
       "|    └─MaxPool2d: 2-4                    [-1, 32, 13, 13]          --\n",
       "├─Sequential: 1-2                        [-1, 64, 6, 6]            --\n",
       "|    └─Conv2d: 2-5                       [-1, 64, 13, 13]          18,496\n",
       "|    └─BatchNorm2d: 2-6                  [-1, 64, 13, 13]          128\n",
       "|    └─ReLU: 2-7                         [-1, 64, 13, 13]          --\n",
       "|    └─MaxPool2d: 2-8                    [-1, 64, 6, 6]            --\n",
       "├─Sequential: 1-3                        [-1, 128, 4, 4]           --\n",
       "|    └─Conv2d: 2-9                       [-1, 128, 6, 6]           73,856\n",
       "|    └─BatchNorm2d: 2-10                 [-1, 128, 6, 6]           256\n",
       "|    └─ReLU: 2-11                        [-1, 128, 6, 6]           --\n",
       "|    └─MaxPool2d: 2-12                   [-1, 128, 4, 4]           --\n",
       "├─Sequential: 1-4                        [-1, 625]                 --\n",
       "├─Linear: 1-5                            [-1, 625]                 1,280,625\n",
       "├─Sequential: 1                          []                        --\n",
       "|    └─Linear: 2-13                      [-1, 625]                 (recursive)\n",
       "|    └─ReLU: 2-14                        [-1, 625]                 --\n",
       "├─Linear: 1-6                            [-1, 9]                   5,634\n",
       "==========================================================================================\n",
       "Total params: 1,379,379\n",
       "Trainable params: 1,379,379\n",
       "Non-trainable params: 0\n",
       "Total mult-adds (M): 9.90\n",
       "==========================================================================================\n",
       "Input size (MB): 0.00\n",
       "Forward/backward pass size (MB): 0.57\n",
       "Params size (MB): 5.26\n",
       "Estimated Total Size (MB): 5.83\n",
       "=========================================================================================="
      ]
     },
     "execution_count": 81,
     "metadata": {},
     "output_type": "execute_result"
    }
   ],
   "source": [
    "CNN = CNN().to(DEVICE)\n",
    "print(CNN)\n",
    "summary(CNN,(1,26,26))"
   ]
  },
  {
   "cell_type": "code",
   "execution_count": 82,
   "id": "8875124c",
   "metadata": {
    "papermill": {
     "duration": 0.09497,
     "end_time": "2021-11-07T08:31:19.996264",
     "exception": false,
     "start_time": "2021-11-07T08:31:19.901294",
     "status": "completed"
    },
    "tags": []
   },
   "outputs": [],
   "source": [
    "args = {\n",
    "\t'BATCH_SIZE': 32,\n",
    "        'LEARNING_RATE': 0.007,\n",
    "        'NUM_EPOCH': 10\n",
    "        }"
   ]
  },
  {
   "cell_type": "code",
   "execution_count": 83,
   "id": "1f74856a",
   "metadata": {
    "papermill": {
     "duration": 0.097581,
     "end_time": "2021-11-07T08:31:20.178872",
     "exception": false,
     "start_time": "2021-11-07T08:31:20.081291",
     "status": "completed"
    },
    "tags": []
   },
   "outputs": [],
   "source": [
    "criterion = torch.nn.CrossEntropyLoss().to(DEVICE) \n",
    "optimizer = torch.optim.Adam(CNN.parameters(), lr=args['LEARNING_RATE'])\n",
    "torch.manual_seed(42)\n",
    "splits = KFold(n_splits=5, shuffle = True, random_state = 42)\n",
    "foldperf={}"
   ]
  },
  {
   "cell_type": "code",
   "execution_count": 84,
   "id": "94f2eb25",
   "metadata": {
    "papermill": {
     "duration": 0.104245,
     "end_time": "2021-11-07T08:31:20.369565",
     "exception": false,
     "start_time": "2021-11-07T08:31:20.265320",
     "status": "completed"
    },
    "tags": []
   },
   "outputs": [],
   "source": [
    "def train_epoch(model, dataloader,loss_fn,optimizer):\n",
    "    train_loss,train_correct=0.0,0\n",
    "    model.train()\n",
    "    for images, labels in dataloader:\n",
    "        images,labels = images.to(DEVICE).unsqueeze(1), labels.to(DEVICE).reshape(args['BATCH_SIZE'], 9)\n",
    "        optimizer.zero_grad()\n",
    "        output = model(images)\n",
    "        labels = torch.argmax(labels, dim=1)\n",
    "        loss = loss_fn(output,labels)\n",
    "        loss.backward()\n",
    "        optimizer.step()\n",
    "        train_loss += loss.item() * images.size(0)\n",
    "        predictions = torch.argmax(output, 1)\n",
    "        train_correct += (predictions == labels).sum().item()\n",
    "    print(train_correct)\n",
    "    return train_loss,train_correct\n",
    "  \n",
    "def valid_epoch(model,dataloader,loss_fn):\n",
    "    valid_loss, val_correct = 0.0, 0\n",
    "    model.eval()\n",
    "    for images, labels in dataloader:\n",
    "        images,labels = images.to(DEVICE).unsqueeze(1), labels.to(DEVICE).reshape(args['BATCH_SIZE'],9)\n",
    "        output = model(images)\n",
    "        labels = torch.argmax(labels, dim=1)\n",
    "        loss=loss_fn(output,labels)\n",
    "        valid_loss+=loss.item() * images.size(0)\n",
    "        predictions = torch.argmax(output, 1)\n",
    "        val_correct+=(predictions == labels).sum().item()\n",
    "    return valid_loss,val_correct"
   ]
  },
  {
   "cell_type": "code",
   "execution_count": 85,
   "id": "f0a0a60c",
   "metadata": {
    "papermill": {
     "duration": 323.680073,
     "end_time": "2021-11-07T08:36:44.135723",
     "exception": false,
     "start_time": "2021-11-07T08:31:20.455650",
     "status": "completed"
    },
    "scrolled": true,
    "tags": []
   },
   "outputs": [
    {
     "name": "stdout",
     "output_type": "stream",
     "text": [
      "Fold 1\n",
      "17584\n",
      "Epoch:1/10 AVG Training Loss:0.944 AVG Test Loss:0.256 AVG Training Acc 80.17 % AVG Test Acc 90.57 %\n",
      "20942\n",
      "Epoch:2/10 AVG Training Loss:0.138 AVG Test Loss:0.075 AVG Training Acc 95.48 % AVG Test Acc 97.72 %\n",
      "21454\n",
      "Epoch:3/10 AVG Training Loss:0.071 AVG Test Loss:0.084 AVG Training Acc 97.81 % AVG Test Acc 97.21 %\n",
      "21494\n",
      "Epoch:4/10 AVG Training Loss:0.067 AVG Test Loss:0.124 AVG Training Acc 97.99 % AVG Test Acc 95.97 %\n",
      "21599\n",
      "Epoch:5/10 AVG Training Loss:0.047 AVG Test Loss:0.121 AVG Training Acc 98.47 % AVG Test Acc 95.82 %\n",
      "21632\n",
      "Epoch:6/10 AVG Training Loss:0.045 AVG Test Loss:0.033 AVG Training Acc 98.62 % AVG Test Acc 98.94 %\n",
      "21632\n",
      "Epoch:7/10 AVG Training Loss:0.041 AVG Test Loss:0.094 AVG Training Acc 98.62 % AVG Test Acc 97.05 %\n",
      "21644\n",
      "Epoch:8/10 AVG Training Loss:0.042 AVG Test Loss:0.032 AVG Training Acc 98.68 % AVG Test Acc 98.80 %\n",
      "21772\n",
      "Epoch:9/10 AVG Training Loss:0.019 AVG Test Loss:0.063 AVG Training Acc 99.26 % AVG Test Acc 98.21 %\n",
      "21699\n",
      "Epoch:10/10 AVG Training Loss:0.036 AVG Test Loss:0.057 AVG Training Acc 98.93 % AVG Test Acc 97.94 %\n",
      "Fold 2\n",
      "21693\n",
      "Epoch:1/10 AVG Training Loss:0.036 AVG Test Loss:0.063 AVG Training Acc 98.90 % AVG Test Acc 97.87 %\n",
      "21745\n",
      "Epoch:2/10 AVG Training Loss:0.029 AVG Test Loss:0.019 AVG Training Acc 99.14 % AVG Test Acc 99.22 %\n",
      "21741\n",
      "Epoch:3/10 AVG Training Loss:0.027 AVG Test Loss:0.174 AVG Training Acc 99.12 % AVG Test Acc 96.97 %\n",
      "21722\n",
      "Epoch:4/10 AVG Training Loss:0.036 AVG Test Loss:0.034 AVG Training Acc 99.03 % AVG Test Acc 98.81 %\n",
      "21839\n",
      "Epoch:5/10 AVG Training Loss:0.015 AVG Test Loss:0.063 AVG Training Acc 99.57 % AVG Test Acc 98.40 %\n",
      "21762\n",
      "Epoch:6/10 AVG Training Loss:0.026 AVG Test Loss:0.087 AVG Training Acc 99.22 % AVG Test Acc 97.36 %\n",
      "21728\n",
      "Epoch:7/10 AVG Training Loss:0.036 AVG Test Loss:0.047 AVG Training Acc 99.06 % AVG Test Acc 98.49 %\n",
      "21824\n",
      "Epoch:8/10 AVG Training Loss:0.014 AVG Test Loss:0.025 AVG Training Acc 99.50 % AVG Test Acc 98.92 %\n",
      "21873\n",
      "Epoch:9/10 AVG Training Loss:0.008 AVG Test Loss:0.028 AVG Training Acc 99.72 % AVG Test Acc 99.07 %\n",
      "21716\n",
      "Epoch:10/10 AVG Training Loss:0.036 AVG Test Loss:0.063 AVG Training Acc 99.01 % AVG Test Acc 98.27 %\n",
      "Fold 3\n",
      "21775\n",
      "Epoch:1/10 AVG Training Loss:0.024 AVG Test Loss:0.011 AVG Training Acc 99.28 % AVG Test Acc 99.45 %\n",
      "21770\n",
      "Epoch:2/10 AVG Training Loss:0.026 AVG Test Loss:0.059 AVG Training Acc 99.25 % AVG Test Acc 98.94 %\n",
      "21802\n",
      "Epoch:3/10 AVG Training Loss:0.020 AVG Test Loss:0.024 AVG Training Acc 99.40 % AVG Test Acc 99.23 %\n",
      "21752\n",
      "Epoch:4/10 AVG Training Loss:0.033 AVG Test Loss:0.011 AVG Training Acc 99.17 % AVG Test Acc 99.53 %\n",
      "21803\n",
      "Epoch:5/10 AVG Training Loss:0.022 AVG Test Loss:0.016 AVG Training Acc 99.40 % AVG Test Acc 99.36 %\n",
      "21858\n",
      "Epoch:6/10 AVG Training Loss:0.011 AVG Test Loss:0.014 AVG Training Acc 99.65 % AVG Test Acc 99.43 %\n",
      "21831\n",
      "Epoch:7/10 AVG Training Loss:0.015 AVG Test Loss:0.036 AVG Training Acc 99.53 % AVG Test Acc 98.80 %\n",
      "21729\n",
      "Epoch:8/10 AVG Training Loss:0.034 AVG Test Loss:0.035 AVG Training Acc 99.07 % AVG Test Acc 99.03 %\n",
      "21835\n",
      "Epoch:9/10 AVG Training Loss:0.016 AVG Test Loss:0.020 AVG Training Acc 99.55 % AVG Test Acc 99.27 %\n",
      "21823\n",
      "Epoch:10/10 AVG Training Loss:0.018 AVG Test Loss:0.013 AVG Training Acc 99.49 % AVG Test Acc 99.34 %\n",
      "Fold 4\n",
      "21805\n",
      "Epoch:1/10 AVG Training Loss:0.022 AVG Test Loss:0.010 AVG Training Acc 99.41 % AVG Test Acc 99.58 %\n",
      "21772\n",
      "Epoch:2/10 AVG Training Loss:0.034 AVG Test Loss:0.012 AVG Training Acc 99.26 % AVG Test Acc 99.43 %\n",
      "21811\n",
      "Epoch:3/10 AVG Training Loss:0.022 AVG Test Loss:0.008 AVG Training Acc 99.43 % AVG Test Acc 99.56 %\n",
      "21847\n",
      "Epoch:4/10 AVG Training Loss:0.015 AVG Test Loss:0.020 AVG Training Acc 99.60 % AVG Test Acc 99.36 %\n",
      "21857\n",
      "Epoch:5/10 AVG Training Loss:0.013 AVG Test Loss:0.022 AVG Training Acc 99.64 % AVG Test Acc 99.34 %\n",
      "21856\n",
      "Epoch:6/10 AVG Training Loss:0.011 AVG Test Loss:0.016 AVG Training Acc 99.64 % AVG Test Acc 99.47 %\n",
      "21743\n",
      "Epoch:7/10 AVG Training Loss:0.053 AVG Test Loss:0.017 AVG Training Acc 99.12 % AVG Test Acc 99.25 %\n",
      "21832\n",
      "Epoch:8/10 AVG Training Loss:0.014 AVG Test Loss:0.010 AVG Training Acc 99.53 % AVG Test Acc 99.42 %\n",
      "21853\n",
      "Epoch:9/10 AVG Training Loss:0.017 AVG Test Loss:0.009 AVG Training Acc 99.63 % AVG Test Acc 99.53 %\n",
      "21851\n",
      "Epoch:10/10 AVG Training Loss:0.014 AVG Test Loss:0.027 AVG Training Acc 99.62 % AVG Test Acc 99.14 %\n",
      "Fold 5\n",
      "21797\n",
      "Epoch:1/10 AVG Training Loss:0.025 AVG Test Loss:0.030 AVG Training Acc 99.37 % AVG Test Acc 99.22 %\n",
      "21837\n",
      "Epoch:2/10 AVG Training Loss:0.015 AVG Test Loss:0.008 AVG Training Acc 99.55 % AVG Test Acc 99.60 %\n",
      "21806\n",
      "Epoch:3/10 AVG Training Loss:0.022 AVG Test Loss:0.018 AVG Training Acc 99.41 % AVG Test Acc 99.38 %\n",
      "21844\n",
      "Epoch:4/10 AVG Training Loss:0.013 AVG Test Loss:0.009 AVG Training Acc 99.59 % AVG Test Acc 99.62 %\n",
      "21858\n",
      "Epoch:5/10 AVG Training Loss:0.014 AVG Test Loss:0.005 AVG Training Acc 99.65 % AVG Test Acc 99.67 %\n",
      "21789\n",
      "Epoch:6/10 AVG Training Loss:0.024 AVG Test Loss:0.011 AVG Training Acc 99.33 % AVG Test Acc 99.47 %\n",
      "21844\n",
      "Epoch:7/10 AVG Training Loss:0.017 AVG Test Loss:0.023 AVG Training Acc 99.59 % AVG Test Acc 99.45 %\n",
      "21810\n",
      "Epoch:8/10 AVG Training Loss:0.025 AVG Test Loss:0.036 AVG Training Acc 99.43 % AVG Test Acc 99.27 %\n",
      "21866\n",
      "Epoch:9/10 AVG Training Loss:0.009 AVG Test Loss:0.011 AVG Training Acc 99.69 % AVG Test Acc 99.62 %\n",
      "21834\n",
      "Epoch:10/10 AVG Training Loss:0.021 AVG Test Loss:0.044 AVG Training Acc 99.54 % AVG Test Acc 99.34 %\n"
     ]
    }
   ],
   "source": [
    "for fold, (train_idx,val_idx) in enumerate(splits.split(np.arange(len(dataset)))):\n",
    "    print('Fold {}'.format(fold + 1))\n",
    "\n",
    "    train_sampler = SubsetRandomSampler(train_idx)\n",
    "    test_sampler = SubsetRandomSampler(val_idx)\n",
    "    train_loader = DataLoader(dataset, batch_size=args['BATCH_SIZE'], sampler=train_sampler, drop_last=True)\n",
    "    test_loader = DataLoader(dataset, batch_size=args['BATCH_SIZE'], sampler=test_sampler, drop_last=True)\n",
    "    history = {'train_loss': [], 'test_loss': [],'train_acc':[],'test_acc':[]}\n",
    "\n",
    "    for epoch in range(args['NUM_EPOCH']):\n",
    "        train_loss, train_correct=train_epoch(CNN,train_loader,criterion,optimizer)\n",
    "        test_loss, test_correct=valid_epoch(CNN,test_loader,criterion)\n",
    "        train_loss = train_loss / len(train_loader.sampler)\n",
    "        train_acc = train_correct / len(train_loader.sampler) * 100\n",
    "        test_loss = test_loss / len(test_loader.sampler)\n",
    "        test_acc = test_correct / len(test_loader.sampler) * 100\n",
    "\n",
    "        print(\"Epoch:{}/{} AVG Training Loss:{:.3f} AVG Test Loss:{:.3f} AVG Training Acc {:.2f} % AVG Test Acc {:.2f} %\".format(epoch + 1,\n",
    "                                                                                                             args['NUM_EPOCH'],\n",
    "                                                                                                             train_loss,\n",
    "                                                                                                             test_loss,\n",
    "                                                                                                             train_acc,\n",
    "                                                                                                             test_acc))\n",
    "        history['train_loss'].append(train_loss)\n",
    "        history['test_loss'].append(test_loss)\n",
    "        history['train_acc'].append(train_acc)\n",
    "        history['test_acc'].append(test_acc)\n",
    "\n",
    "    foldperf['fold{}'.format(fold+1)] = history  \n",
    "\n",
    "  "
   ]
  },
  {
   "cell_type": "code",
   "execution_count": 88,
   "id": "d5a4328b",
   "metadata": {
    "papermill": {
     "duration": 0.157333,
     "end_time": "2021-11-07T08:36:44.407920",
     "exception": false,
     "start_time": "2021-11-07T08:36:44.250587",
     "status": "completed"
    },
    "tags": []
   },
   "outputs": [],
   "source": [
    "torch.save(CNN.state_dict(),'cnn_model.pth')  "
   ]
  },
  {
   "cell_type": "code",
   "execution_count": 89,
   "id": "ce16dcc1",
   "metadata": {
    "papermill": {
     "duration": 0.132529,
     "end_time": "2021-11-07T08:36:44.659086",
     "exception": false,
     "start_time": "2021-11-07T08:36:44.526557",
     "status": "completed"
    },
    "tags": []
   },
   "outputs": [
    {
     "name": "stdout",
     "output_type": "stream",
     "text": [
      "Performance of 5 fold cross validation\n",
      "Average Training Loss: 0.047 \t Average Test Loss: 0.043 \t Average Training Acc: 98.80 \t Average Test Acc: 98.65\n"
     ]
    }
   ],
   "source": [
    "testl_f,tl_f,testa_f,ta_f=[],[],[],[]\n",
    "k=5\n",
    "for f in range(1,k+1):\n",
    "\n",
    "     tl_f.append(np.mean(foldperf['fold{}'.format(f)]['train_loss']))\n",
    "     testl_f.append(np.mean(foldperf['fold{}'.format(f)]['test_loss']))\n",
    "\n",
    "     ta_f.append(np.mean(foldperf['fold{}'.format(f)]['train_acc']))\n",
    "     testa_f.append(np.mean(foldperf['fold{}'.format(f)]['test_acc']))\n",
    "\n",
    "print('Performance of {} fold cross validation'.format(k))\n",
    "print(\"Average Training Loss: {:.3f} \\t Average Test Loss: {:.3f} \\t Average Training Acc: {:.2f} \\t Average Test Acc: {:.2f}\".format(np.mean(tl_f),np.mean(testl_f),np.mean(ta_f),np.mean(testa_f)))     "
   ]
  },
  {
   "cell_type": "code",
   "execution_count": 90,
   "id": "247c86fd",
   "metadata": {
    "papermill": {
     "duration": 0.696362,
     "end_time": "2021-11-07T08:36:45.479727",
     "exception": false,
     "start_time": "2021-11-07T08:36:44.783365",
     "status": "completed"
    },
    "tags": []
   },
   "outputs": [
    {
     "data": {
      "image/png": "[encoded data removed]",
      "text/plain": [
       "<Figure size 640x480 with 1 Axes>"
      ]
     },
     "metadata": {},
     "output_type": "display_data"
    },
    {
     "data": {
      "image/png": "[encoded data removed]",
      "text/plain": [
       "<Figure size 640x480 with 1 Axes>"
      ]
     },
     "metadata": {},
     "output_type": "display_data"
    }
   ],
   "source": [
    "# accuracy plot \n",
    "plt.plot(ta_f)\n",
    "plt.plot(testa_f)\n",
    "plt.title('model accuracy')\n",
    "plt.ylabel('accuracy')\n",
    "plt.xlabel('fold')\n",
    "plt.ylim(80)\n",
    "plt.legend(['train', 'test'], loc='upper left')\n",
    "plt.show()\n",
    "\n",
    "# loss plot\n",
    "plt.plot(tl_f)\n",
    "plt.plot(testl_f)\n",
    "plt.title('model loss')\n",
    "plt.ylabel('loss')\n",
    "plt.xlabel('fold')\n",
    "plt.legend(['train', 'test'], loc='upper right')\n",
    "plt.show()"
   ]
  },
  {
   "cell_type": "code",
   "execution_count": 91,
   "id": "5a207cd0",
   "metadata": {
    "papermill": {
     "duration": 0.13733,
     "end_time": "2021-11-07T08:36:45.735567",
     "exception": false,
     "start_time": "2021-11-07T08:36:45.598237",
     "status": "completed"
    },
    "tags": []
   },
   "outputs": [],
   "source": [
    "def view_classify(img, ps):\n",
    "    ''' Function for viewing an image and it's predicted classes.\n",
    "    '''\n",
    "    ps = ps.squeeze()\n",
    "    fig, (ax1, ax2) = plt.subplots(figsize=(6,9), ncols=2)\n",
    "    ax1.imshow(img.resize_(1, 26, 26).numpy().squeeze())\n",
    "    ax1.axis('off')\n",
    "    ax2.barh(np.arange(9), ps)\n",
    "    ax2.set_aspect(2)\n",
    "    ax2.set_yticks(np.arange(9))\n",
    "    ax2.set_yticklabels(['Center', 'Donut', 'Edge-Loc', 'Edge-Ring', 'Loc', 'Near-full', 'Random', 'Scratch', 'none'])\n",
    "    ax2.set_title('Class Probability')\n",
    "    ax2.set_xlim(0, 15)\n",
    "\n",
    "    plt.tight_layout()"
   ]
  },
  {
   "cell_type": "code",
   "execution_count": 92,
   "id": "41b39637",
   "metadata": {
    "papermill": {
     "duration": 0.263716,
     "end_time": "2021-11-07T08:36:46.256822",
     "exception": false,
     "start_time": "2021-11-07T08:36:45.993106",
     "status": "completed"
    },
    "tags": []
   },
   "outputs": [
    {
     "name": "stdout",
     "output_type": "stream",
     "text": [
      "i : 0, l : Center\n",
      "i : 1, l : Donut\n",
      "i : 2, l : Edge-Loc\n",
      "i : 3, l : Edge-Ring\n",
      "i : 4, l : Loc\n",
      "i : 5, l : Near-full\n",
      "i : 6, l : Random\n",
      "i : 7, l : Scratch\n",
      "i : 8, l : none\n"
     ]
    }
   ],
   "source": [
    "for i, l in enumerate(faulty_case):\n",
    "    y1[y1==l] = i    \n",
    "    print('i : {}, l : {}'.format(i, l))\n",
    "y1 = _to_one_hot(torch.as_tensor(np.int64(y1)), num_classes=9)"
   ]
  },
  {
   "cell_type": "code",
   "execution_count": 103,
   "id": "0154ab65",
   "metadata": {
    "papermill": {
     "duration": 0.126898,
     "end_time": "2021-11-07T08:36:46.574086",
     "exception": false,
     "start_time": "2021-11-07T08:36:46.447188",
     "status": "completed"
    },
    "tags": []
   },
   "outputs": [],
   "source": [
    "resizedata = torch.utils.data.TensorDataset(resize_x, y1\n",
    "resizeLoader = DataLoader(resizedata, shuffle = True)"
   ]
  },
  {
   "cell_type": "code",
   "execution_count": 114,
   "id": "c9d60296-512d-4568-aff8-c4146efdc577",
   "metadata": {},
   "outputs": [],
   "source": [
    "import os\n",
    "import pandas as pd\n",
    "\n",
    "# Convert to NumPy if necessary\n",
    "resize_x_np = resize_x.cpu().numpy() \n",
    "\n",
    "output_dir = \"resize_x_csv_files\"\n",
    "os.makedirs(output_dir, exist_ok=True)  # Creates the folder if it doesn't exist\n",
    "\n",
    "# Loop through each sample and save it as a separate CSV file in the directory\n",
    "for i in range(resize_x_np.shape[0]):\n",
    "    df = pd.DataFrame(resize_x_np[i])\n",
    "    df.to_csv(os.path.join(output_dir, f'resize_x_{i}.csv'), index=False)\n"
   ]
  },
  {
   "cell_type": "code",
   "execution_count": 104,
   "id": "a5df4792",
   "metadata": {
    "papermill": {
     "duration": 1.086962,
     "end_time": "2021-11-07T08:36:47.778584",
     "exception": false,
     "start_time": "2021-11-07T08:36:46.691622",
     "status": "completed"
    },
    "tags": []
   },
   "outputs": [
    {
     "name": "stdout",
     "output_type": "stream",
     "text": [
      "[ -6.462315   -21.808002     0.23139295  -8.241183     1.3200074\n",
      " -10.601095   -12.064428    -7.443018     7.6422954 ]\n",
      "predict: 8 true: 8\n",
      "[ -4.350302  -57.374138   -8.460135  -18.229836   -9.109163  -18.463552\n",
      " -20.290003    1.0018506   8.221597 ]\n",
      "predict: 8 true: 8\n"
     ]
    },
    {
     "data": {
      "image/png": "[encoded data removed]",
      "text/plain": [
       "<Figure size 600x900 with 2 Axes>"
      ]
     },
     "metadata": {},
     "output_type": "display_data"
    },
    {
     "data": {
      "image/png": "[encoded data removed]",
      "text/plain": [
       "<Figure size 600x900 with 2 Axes>"
      ]
     },
     "metadata": {},
     "output_type": "display_data"
    }
   ],
   "source": [
    "%matplotlib inline\n",
    "def make_prediction(data):\n",
    "    images, labels = next(iter(data))\n",
    "    # Turn off gradients to speed up this part\n",
    "    images = images.to(DEVICE).unsqueeze(0)\n",
    "    with torch.no_grad():\n",
    "        ps = CNN(images).detach().cpu().numpy()[0]\n",
    "        print(ps)\n",
    "        print('predict: {} true: {}'.format(np.argmax(ps),torch.argmax(labels[0])))\n",
    "    # Output of the network are log-probabilities, need to take exponential for probabilities\n",
    "    view_classify(images.view(1, 26, 26).cpu(), ps)\n",
    "make_prediction(resizeLoader)\n",
    "make_prediction(resizeLoader)"
   ]
  },
  {
   "cell_type": "code",
   "execution_count": 105,
   "id": "5e837fd1",
   "metadata": {
    "papermill": {
     "duration": 54.968091,
     "end_time": "2021-11-07T08:37:42.869622",
     "exception": false,
     "start_time": "2021-11-07T08:36:47.901531",
     "status": "completed"
    },
    "tags": []
   },
   "outputs": [
    {
     "data": {
      "image/png": "[encoded data removed]",
      "text/plain": [
       "<Figure size 1200x700 with 2 Axes>"
      ]
     },
     "metadata": {},
     "output_type": "display_data"
    }
   ],
   "source": [
    "y_pred = []\n",
    "y_true = []\n",
    "\n",
    "# iterate over test data\n",
    "with torch.no_grad():\n",
    "    for images, labels in resizeLoader:\n",
    "            images = images.to(DEVICE).unsqueeze(0)\n",
    "            ps = np.argmax(CNN(images).detach().cpu().numpy()[0])\n",
    "            y_pred.append(ps) # Save Prediction\n",
    "            labels = np.argmax(labels[0])\n",
    "            y_true.append(labels) # Save Truth\n",
    "# constant for classes\n",
    "    classes = ('Center', 'Donut', 'Edge-Loc', 'Edge-Ring', 'Loc', 'Near-full', 'Random', 'Scratch', 'None')\n",
    "# Build confusion matrix\n",
    "    cf_matrix = confusion_matrix(y_true, y_pred)\n",
    "    df_cm = pd.DataFrame(cf_matrix, index = [i for i in classes],\n",
    "                     columns = [i for i in classes])\n",
    "    plt.figure(figsize = (12,7))\n",
    "    sns.heatmap(df_cm, annot=True)"
   ]
  },
  {
   "cell_type": "code",
   "execution_count": 106,
   "id": "d11a4684",
   "metadata": {
    "papermill": {
     "duration": 0.137326,
     "end_time": "2021-11-07T08:37:43.129578",
     "exception": false,
     "start_time": "2021-11-07T08:37:42.992252",
     "status": "completed"
    },
    "tags": []
   },
   "outputs": [
    {
     "data": {
      "text/plain": [
       "(array([20928, 22274, 29794, 30043]), array([0, 0, 0, 0]))"
      ]
     },
     "execution_count": 106,
     "metadata": {},
     "output_type": "execute_result"
    }
   ],
   "source": [
    "np.where(np.argmax(y1, axis=2) == 1)"
   ]
  },
  {
   "cell_type": "code",
   "execution_count": 107,
   "id": "11b4c3c2",
   "metadata": {
    "papermill": {
     "duration": 0.598561,
     "end_time": "2021-11-07T08:37:43.853513",
     "exception": false,
     "start_time": "2021-11-07T08:37:43.254952",
     "status": "completed"
    },
    "tags": []
   },
   "outputs": [
    {
     "name": "stdout",
     "output_type": "stream",
     "text": [
      "[-35.18656   -15.606827   16.575653  -25.860317    7.8000402 -26.805809\n",
      " -26.09405   -30.736916   -2.8495243]\n",
      "predict: 2 true: 1\n"
     ]
    },
    {
     "data": {
      "image/png": "[encoded data removed]",
      "text/plain": [
       "<Figure size 600x900 with 2 Axes>"
      ]
     },
     "metadata": {},
     "output_type": "display_data"
    }
   ],
   "source": [
    "#i : 0, l : Center\n",
    "#i : 1, l : Donut\n",
    "#i : 2, l : Edge-Loc\n",
    "#i : 3, l : Edge-Ring\n",
    "#i : 4, l : Loc\n",
    "#i : 5, l : Near-full\n",
    "#i : 6, l : Random\n",
    "#i : 7, l : Scratch\n",
    "#i : 8, l : none\n",
    "\n",
    "def make_predict(num):\n",
    "    images, labels = resize_x[num], y1[num]\n",
    "    # Turn off gradients to speed up this part\n",
    "    images = images.to(DEVICE).unsqueeze(0)\n",
    "    images = images.to(DEVICE).unsqueeze(0)\n",
    "    with torch.no_grad():\n",
    "        ps = CNN(images).detach().cpu().numpy()[0]\n",
    "        print(ps)\n",
    "        print('predict: {} true: {}'.format(np.argmax(ps),torch.argmax(labels[0])))\n",
    "    # Output of the network are log-probabilities, need to take exponential for probabilities\n",
    "    view_classify(images.view(1, 26, 26).cpu(), ps)\n",
    "make_predict(29794)"
   ]
  },
  {
   "cell_type": "code",
   "execution_count": 108,
   "id": "02611adb",
   "metadata": {
    "papermill": {
     "duration": 0.150194,
     "end_time": "2021-11-07T08:37:44.131889",
     "exception": false,
     "start_time": "2021-11-07T08:37:43.981695",
     "status": "completed"
    },
    "tags": []
   },
   "outputs": [
    {
     "name": "stdout",
     "output_type": "stream",
     "text": [
      "0 : 2309\n",
      "1 : 4\n",
      "2 : 661\n",
      "3 : 34\n",
      "4 : 413\n",
      "5 : 26\n",
      "6 : 71\n",
      "7 : 92\n",
      "8 : 27571\n"
     ]
    }
   ],
   "source": [
    "for f in range(0,9) :\n",
    "    print('{} : {}'.format(f, len(y1[np.argmax(y1, 2)==f])))"
   ]
  },
  {
   "cell_type": "code",
   "execution_count": 109,
   "id": "dfad78fb",
   "metadata": {
    "papermill": {
     "duration": 0.816565,
     "end_time": "2021-11-07T08:37:45.074448",
     "exception": false,
     "start_time": "2021-11-07T08:37:44.257883",
     "status": "completed"
    },
    "tags": []
   },
   "outputs": [
    {
     "name": "stdout",
     "output_type": "stream",
     "text": [
      "              precision    recall  f1-score   support\n",
      "\n",
      "           0       0.61      0.43      0.51      2309\n",
      "           1       0.00      0.00      0.00         4\n",
      "           2       0.64      0.47      0.54       661\n",
      "           3       0.28      0.24      0.25        34\n",
      "           4       0.08      0.49      0.13       413\n",
      "           5       0.71      0.92      0.80        26\n",
      "           6       0.31      0.45      0.37        71\n",
      "           7       0.01      0.07      0.01        92\n",
      "           8       0.98      0.90      0.94     27571\n",
      "\n",
      "    accuracy                           0.84     31181\n",
      "   macro avg       0.40      0.44      0.39     31181\n",
      "weighted avg       0.93      0.84      0.88     31181\n",
      "\n"
     ]
    }
   ],
   "source": [
    "from sklearn.metrics import classification_report\n",
    "print(classification_report(y_true, y_pred))"
   ]
  },
  {
   "cell_type": "code",
   "execution_count": null,
   "id": "55b10b16",
   "metadata": {
    "papermill": {
     "duration": 0.221277,
     "end_time": "2021-11-07T08:37:45.508112",
     "exception": false,
     "start_time": "2021-11-07T08:37:45.286835",
     "status": "completed"
    },
    "tags": []
   },
   "outputs": [],
   "source": []
  }
 ],
 "metadata": {
  "kernelspec": {
   "display_name": "Python 3 (ipykernel)",
   "language": "python",
   "name": "python3"
  },
  "language_info": {
   "codemirror_mode": {
    "name": "ipython",
    "version": 3
   },
   "file_extension": ".py",
   "mimetype": "text/x-python",
   "name": "python",
   "nbconvert_exporter": "python",
   "pygments_lexer": "ipython3",
   "version": "3.9.20"
  },
  "papermill": {
   "default_parameters": {},
   "duration": 700.115627,
   "end_time": "2021-11-07T08:37:48.966526",
   "environment_variables": {},
   "exception": null,
   "input_path": "__notebook__.ipynb",
   "output_path": "__notebook__.ipynb",
   "parameters": {},
   "start_time": "2021-11-07T08:26:08.850899",
   "version": "2.3.3"
  }
 },
 "nbformat": 4,
 "nbformat_minor": 5
}
